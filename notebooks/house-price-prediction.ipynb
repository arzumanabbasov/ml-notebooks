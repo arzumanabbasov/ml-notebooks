{
 "cells": [
  {
   "cell_type": "code",
   "execution_count": 1,
   "id": "9dee3c82",
   "metadata": {
    "_cell_guid": "b1076dfc-b9ad-4769-8c92-a6c4dae69d19",
    "_uuid": "8f2839f25d086af736a60e9eeb907d3b93b6e0e5",
    "execution": {
     "iopub.execute_input": "2024-02-21T11:44:28.949320Z",
     "iopub.status.busy": "2024-02-21T11:44:28.947503Z",
     "iopub.status.idle": "2024-02-21T11:44:30.020679Z",
     "shell.execute_reply": "2024-02-21T11:44:30.018968Z"
    },
    "papermill": {
     "duration": 1.099056,
     "end_time": "2024-02-21T11:44:30.023713",
     "exception": false,
     "start_time": "2024-02-21T11:44:28.924657",
     "status": "completed"
    },
    "tags": []
   },
   "outputs": [
    {
     "name": "stdout",
     "output_type": "stream",
     "text": [
      "/kaggle/input/house-prices-advanced-regression-techniques/sample_submission.csv\n",
      "/kaggle/input/house-prices-advanced-regression-techniques/data_description.txt\n",
      "/kaggle/input/house-prices-advanced-regression-techniques/train.csv\n",
      "/kaggle/input/house-prices-advanced-regression-techniques/test.csv\n"
     ]
    }
   ],
   "source": [
    "# This Python 3 environment comes with many helpful analytics libraries installed\n",
    "# It is defined by the kaggle/python Docker image: https://github.com/kaggle/docker-python\n",
    "# For example, here's several helpful packages to load\n",
    "\n",
    "import numpy as np # linear algebra\n",
    "import pandas as pd # data processing, CSV file I/O (e.g. pd.read_csv)\n",
    "\n",
    "# Input data files are available in the read-only \"../input/\" directory\n",
    "# For example, running this (by clicking run or pressing Shift+Enter) will list all files under the input directory\n",
    "\n",
    "import os\n",
    "for dirname, _, filenames in os.walk('/kaggle/input'):\n",
    "    for filename in filenames:\n",
    "        print(os.path.join(dirname, filename))\n",
    "\n",
    "# You can write up to 20GB to the current directory (/kaggle/working/) that gets preserved as output when you create a version using \"Save & Run All\" \n",
    "# You can also write temporary files to /kaggle/temp/, but they won't be saved outside of the current session"
   ]
  },
  {
   "cell_type": "code",
   "execution_count": 2,
   "id": "00f08509",
   "metadata": {
    "execution": {
     "iopub.execute_input": "2024-02-21T11:44:30.053834Z",
     "iopub.status.busy": "2024-02-21T11:44:30.052834Z",
     "iopub.status.idle": "2024-02-21T11:44:32.410775Z",
     "shell.execute_reply": "2024-02-21T11:44:32.409422Z"
    },
    "papermill": {
     "duration": 2.376673,
     "end_time": "2024-02-21T11:44:32.414224",
     "exception": false,
     "start_time": "2024-02-21T11:44:30.037551",
     "status": "completed"
    },
    "tags": []
   },
   "outputs": [],
   "source": [
    "import math\n",
    "import numpy as np\n",
    "import pandas as pd\n",
    "import seaborn as sns\n",
    "import matplotlib.pyplot as plt\n",
    "from scipy import stats\n",
    "from sklearn.neighbors import KNeighborsRegressor\n",
    "from sklearn.impute import KNNImputer\n",
    "from sklearn.preprocessing import StandardScaler\n",
    "from sklearn.model_selection import train_test_split, cross_val_score\n",
    "from sklearn.linear_model import LinearRegression, Lasso, Ridge\n",
    "from sklearn.tree import DecisionTreeRegressor\n",
    "from sklearn.ensemble import RandomForestRegressor\n",
    "from sklearn.svm import SVR\n",
    "from sklearn.metrics import mean_squared_error\n",
    "from datetime import date"
   ]
  },
  {
   "cell_type": "code",
   "execution_count": 3,
   "id": "8690b511",
   "metadata": {
    "execution": {
     "iopub.execute_input": "2024-02-21T11:44:32.443187Z",
     "iopub.status.busy": "2024-02-21T11:44:32.442345Z",
     "iopub.status.idle": "2024-02-21T11:44:32.447735Z",
     "shell.execute_reply": "2024-02-21T11:44:32.446708Z"
    },
    "papermill": {
     "duration": 0.023058,
     "end_time": "2024-02-21T11:44:32.450597",
     "exception": false,
     "start_time": "2024-02-21T11:44:32.427539",
     "status": "completed"
    },
    "tags": []
   },
   "outputs": [],
   "source": [
    "import warnings\n",
    "warnings.filterwarnings(action=\"ignore\")"
   ]
  },
  {
   "cell_type": "code",
   "execution_count": 4,
   "id": "acaf6007",
   "metadata": {
    "execution": {
     "iopub.execute_input": "2024-02-21T11:44:32.482198Z",
     "iopub.status.busy": "2024-02-21T11:44:32.481317Z",
     "iopub.status.idle": "2024-02-21T11:44:32.574422Z",
     "shell.execute_reply": "2024-02-21T11:44:32.572886Z"
    },
    "papermill": {
     "duration": 0.113307,
     "end_time": "2024-02-21T11:44:32.577590",
     "exception": false,
     "start_time": "2024-02-21T11:44:32.464283",
     "status": "completed"
    },
    "tags": []
   },
   "outputs": [],
   "source": [
    "train = pd.read_csv('../input/house-prices-advanced-regression-techniques/train.csv')\n",
    "test = pd.read_csv('../input/house-prices-advanced-regression-techniques/test.csv')"
   ]
  },
  {
   "cell_type": "code",
   "execution_count": 5,
   "id": "311c46b6",
   "metadata": {
    "execution": {
     "iopub.execute_input": "2024-02-21T11:44:32.607564Z",
     "iopub.status.busy": "2024-02-21T11:44:32.606311Z",
     "iopub.status.idle": "2024-02-21T11:44:32.615407Z",
     "shell.execute_reply": "2024-02-21T11:44:32.614256Z"
    },
    "papermill": {
     "duration": 0.02642,
     "end_time": "2024-02-21T11:44:32.617957",
     "exception": false,
     "start_time": "2024-02-21T11:44:32.591537",
     "status": "completed"
    },
    "tags": []
   },
   "outputs": [
    {
     "data": {
      "text/plain": [
       "RangeIndex(start=0, stop=20, step=1)"
      ]
     },
     "execution_count": 5,
     "metadata": {},
     "output_type": "execute_result"
    }
   ],
   "source": [
    "test_id = test.index\n",
    "test_id[:20]"
   ]
  },
  {
   "cell_type": "code",
   "execution_count": 6,
   "id": "13e6f3a7",
   "metadata": {
    "execution": {
     "iopub.execute_input": "2024-02-21T11:44:32.647436Z",
     "iopub.status.busy": "2024-02-21T11:44:32.647028Z",
     "iopub.status.idle": "2024-02-21T11:44:32.663440Z",
     "shell.execute_reply": "2024-02-21T11:44:32.662294Z"
    },
    "papermill": {
     "duration": 0.034891,
     "end_time": "2024-02-21T11:44:32.666256",
     "exception": false,
     "start_time": "2024-02-21T11:44:32.631365",
     "status": "completed"
    },
    "tags": []
   },
   "outputs": [],
   "source": [
    "df=pd.concat([train, test], axis=0, ignore_index=True)"
   ]
  },
  {
   "cell_type": "code",
   "execution_count": 7,
   "id": "9887abc3",
   "metadata": {
    "execution": {
     "iopub.execute_input": "2024-02-21T11:44:32.695720Z",
     "iopub.status.busy": "2024-02-21T11:44:32.694335Z",
     "iopub.status.idle": "2024-02-21T11:44:32.732553Z",
     "shell.execute_reply": "2024-02-21T11:44:32.731237Z"
    },
    "papermill": {
     "duration": 0.055711,
     "end_time": "2024-02-21T11:44:32.735345",
     "exception": false,
     "start_time": "2024-02-21T11:44:32.679634",
     "status": "completed"
    },
    "tags": []
   },
   "outputs": [
    {
     "data": {
      "text/html": [
       "<div>\n",
       "<style scoped>\n",
       "    .dataframe tbody tr th:only-of-type {\n",
       "        vertical-align: middle;\n",
       "    }\n",
       "\n",
       "    .dataframe tbody tr th {\n",
       "        vertical-align: top;\n",
       "    }\n",
       "\n",
       "    .dataframe thead th {\n",
       "        text-align: right;\n",
       "    }\n",
       "</style>\n",
       "<table border=\"1\" class=\"dataframe\">\n",
       "  <thead>\n",
       "    <tr style=\"text-align: right;\">\n",
       "      <th></th>\n",
       "      <th>Id</th>\n",
       "      <th>MSSubClass</th>\n",
       "      <th>MSZoning</th>\n",
       "      <th>LotFrontage</th>\n",
       "      <th>LotArea</th>\n",
       "      <th>Street</th>\n",
       "      <th>Alley</th>\n",
       "      <th>LotShape</th>\n",
       "      <th>LandContour</th>\n",
       "      <th>Utilities</th>\n",
       "      <th>...</th>\n",
       "      <th>PoolArea</th>\n",
       "      <th>PoolQC</th>\n",
       "      <th>Fence</th>\n",
       "      <th>MiscFeature</th>\n",
       "      <th>MiscVal</th>\n",
       "      <th>MoSold</th>\n",
       "      <th>YrSold</th>\n",
       "      <th>SaleType</th>\n",
       "      <th>SaleCondition</th>\n",
       "      <th>SalePrice</th>\n",
       "    </tr>\n",
       "  </thead>\n",
       "  <tbody>\n",
       "    <tr>\n",
       "      <th>0</th>\n",
       "      <td>1</td>\n",
       "      <td>60</td>\n",
       "      <td>RL</td>\n",
       "      <td>65.0</td>\n",
       "      <td>8450</td>\n",
       "      <td>Pave</td>\n",
       "      <td>NaN</td>\n",
       "      <td>Reg</td>\n",
       "      <td>Lvl</td>\n",
       "      <td>AllPub</td>\n",
       "      <td>...</td>\n",
       "      <td>0</td>\n",
       "      <td>NaN</td>\n",
       "      <td>NaN</td>\n",
       "      <td>NaN</td>\n",
       "      <td>0</td>\n",
       "      <td>2</td>\n",
       "      <td>2008</td>\n",
       "      <td>WD</td>\n",
       "      <td>Normal</td>\n",
       "      <td>208500.0</td>\n",
       "    </tr>\n",
       "    <tr>\n",
       "      <th>1</th>\n",
       "      <td>2</td>\n",
       "      <td>20</td>\n",
       "      <td>RL</td>\n",
       "      <td>80.0</td>\n",
       "      <td>9600</td>\n",
       "      <td>Pave</td>\n",
       "      <td>NaN</td>\n",
       "      <td>Reg</td>\n",
       "      <td>Lvl</td>\n",
       "      <td>AllPub</td>\n",
       "      <td>...</td>\n",
       "      <td>0</td>\n",
       "      <td>NaN</td>\n",
       "      <td>NaN</td>\n",
       "      <td>NaN</td>\n",
       "      <td>0</td>\n",
       "      <td>5</td>\n",
       "      <td>2007</td>\n",
       "      <td>WD</td>\n",
       "      <td>Normal</td>\n",
       "      <td>181500.0</td>\n",
       "    </tr>\n",
       "    <tr>\n",
       "      <th>2</th>\n",
       "      <td>3</td>\n",
       "      <td>60</td>\n",
       "      <td>RL</td>\n",
       "      <td>68.0</td>\n",
       "      <td>11250</td>\n",
       "      <td>Pave</td>\n",
       "      <td>NaN</td>\n",
       "      <td>IR1</td>\n",
       "      <td>Lvl</td>\n",
       "      <td>AllPub</td>\n",
       "      <td>...</td>\n",
       "      <td>0</td>\n",
       "      <td>NaN</td>\n",
       "      <td>NaN</td>\n",
       "      <td>NaN</td>\n",
       "      <td>0</td>\n",
       "      <td>9</td>\n",
       "      <td>2008</td>\n",
       "      <td>WD</td>\n",
       "      <td>Normal</td>\n",
       "      <td>223500.0</td>\n",
       "    </tr>\n",
       "    <tr>\n",
       "      <th>3</th>\n",
       "      <td>4</td>\n",
       "      <td>70</td>\n",
       "      <td>RL</td>\n",
       "      <td>60.0</td>\n",
       "      <td>9550</td>\n",
       "      <td>Pave</td>\n",
       "      <td>NaN</td>\n",
       "      <td>IR1</td>\n",
       "      <td>Lvl</td>\n",
       "      <td>AllPub</td>\n",
       "      <td>...</td>\n",
       "      <td>0</td>\n",
       "      <td>NaN</td>\n",
       "      <td>NaN</td>\n",
       "      <td>NaN</td>\n",
       "      <td>0</td>\n",
       "      <td>2</td>\n",
       "      <td>2006</td>\n",
       "      <td>WD</td>\n",
       "      <td>Abnorml</td>\n",
       "      <td>140000.0</td>\n",
       "    </tr>\n",
       "    <tr>\n",
       "      <th>4</th>\n",
       "      <td>5</td>\n",
       "      <td>60</td>\n",
       "      <td>RL</td>\n",
       "      <td>84.0</td>\n",
       "      <td>14260</td>\n",
       "      <td>Pave</td>\n",
       "      <td>NaN</td>\n",
       "      <td>IR1</td>\n",
       "      <td>Lvl</td>\n",
       "      <td>AllPub</td>\n",
       "      <td>...</td>\n",
       "      <td>0</td>\n",
       "      <td>NaN</td>\n",
       "      <td>NaN</td>\n",
       "      <td>NaN</td>\n",
       "      <td>0</td>\n",
       "      <td>12</td>\n",
       "      <td>2008</td>\n",
       "      <td>WD</td>\n",
       "      <td>Normal</td>\n",
       "      <td>250000.0</td>\n",
       "    </tr>\n",
       "  </tbody>\n",
       "</table>\n",
       "<p>5 rows × 81 columns</p>\n",
       "</div>"
      ],
      "text/plain": [
       "   Id  MSSubClass MSZoning  LotFrontage  LotArea Street Alley LotShape  \\\n",
       "0   1          60       RL         65.0     8450   Pave   NaN      Reg   \n",
       "1   2          20       RL         80.0     9600   Pave   NaN      Reg   \n",
       "2   3          60       RL         68.0    11250   Pave   NaN      IR1   \n",
       "3   4          70       RL         60.0     9550   Pave   NaN      IR1   \n",
       "4   5          60       RL         84.0    14260   Pave   NaN      IR1   \n",
       "\n",
       "  LandContour Utilities  ... PoolArea PoolQC Fence MiscFeature MiscVal MoSold  \\\n",
       "0         Lvl    AllPub  ...        0    NaN   NaN         NaN       0      2   \n",
       "1         Lvl    AllPub  ...        0    NaN   NaN         NaN       0      5   \n",
       "2         Lvl    AllPub  ...        0    NaN   NaN         NaN       0      9   \n",
       "3         Lvl    AllPub  ...        0    NaN   NaN         NaN       0      2   \n",
       "4         Lvl    AllPub  ...        0    NaN   NaN         NaN       0     12   \n",
       "\n",
       "  YrSold  SaleType  SaleCondition  SalePrice  \n",
       "0   2008        WD         Normal   208500.0  \n",
       "1   2007        WD         Normal   181500.0  \n",
       "2   2008        WD         Normal   223500.0  \n",
       "3   2006        WD        Abnorml   140000.0  \n",
       "4   2008        WD         Normal   250000.0  \n",
       "\n",
       "[5 rows x 81 columns]"
      ]
     },
     "execution_count": 7,
     "metadata": {},
     "output_type": "execute_result"
    }
   ],
   "source": [
    "df.head()"
   ]
  },
  {
   "cell_type": "code",
   "execution_count": 8,
   "id": "f1b93fea",
   "metadata": {
    "execution": {
     "iopub.execute_input": "2024-02-21T11:44:32.765548Z",
     "iopub.status.busy": "2024-02-21T11:44:32.765107Z",
     "iopub.status.idle": "2024-02-21T11:44:32.875722Z",
     "shell.execute_reply": "2024-02-21T11:44:32.874399Z"
    },
    "papermill": {
     "duration": 0.129143,
     "end_time": "2024-02-21T11:44:32.878498",
     "exception": false,
     "start_time": "2024-02-21T11:44:32.749355",
     "status": "completed"
    },
    "tags": []
   },
   "outputs": [
    {
     "data": {
      "text/html": [
       "<div>\n",
       "<style scoped>\n",
       "    .dataframe tbody tr th:only-of-type {\n",
       "        vertical-align: middle;\n",
       "    }\n",
       "\n",
       "    .dataframe tbody tr th {\n",
       "        vertical-align: top;\n",
       "    }\n",
       "\n",
       "    .dataframe thead th {\n",
       "        text-align: right;\n",
       "    }\n",
       "</style>\n",
       "<table border=\"1\" class=\"dataframe\">\n",
       "  <thead>\n",
       "    <tr style=\"text-align: right;\">\n",
       "      <th></th>\n",
       "      <th>Id</th>\n",
       "      <th>MSSubClass</th>\n",
       "      <th>LotFrontage</th>\n",
       "      <th>LotArea</th>\n",
       "      <th>OverallQual</th>\n",
       "      <th>OverallCond</th>\n",
       "      <th>YearBuilt</th>\n",
       "      <th>YearRemodAdd</th>\n",
       "      <th>MasVnrArea</th>\n",
       "      <th>BsmtFinSF1</th>\n",
       "      <th>...</th>\n",
       "      <th>WoodDeckSF</th>\n",
       "      <th>OpenPorchSF</th>\n",
       "      <th>EnclosedPorch</th>\n",
       "      <th>3SsnPorch</th>\n",
       "      <th>ScreenPorch</th>\n",
       "      <th>PoolArea</th>\n",
       "      <th>MiscVal</th>\n",
       "      <th>MoSold</th>\n",
       "      <th>YrSold</th>\n",
       "      <th>SalePrice</th>\n",
       "    </tr>\n",
       "  </thead>\n",
       "  <tbody>\n",
       "    <tr>\n",
       "      <th>count</th>\n",
       "      <td>2919.000000</td>\n",
       "      <td>2919.000000</td>\n",
       "      <td>2433.000000</td>\n",
       "      <td>2919.000000</td>\n",
       "      <td>2919.000000</td>\n",
       "      <td>2919.000000</td>\n",
       "      <td>2919.000000</td>\n",
       "      <td>2919.000000</td>\n",
       "      <td>2896.000000</td>\n",
       "      <td>2918.000000</td>\n",
       "      <td>...</td>\n",
       "      <td>2919.000000</td>\n",
       "      <td>2919.000000</td>\n",
       "      <td>2919.000000</td>\n",
       "      <td>2919.000000</td>\n",
       "      <td>2919.000000</td>\n",
       "      <td>2919.000000</td>\n",
       "      <td>2919.000000</td>\n",
       "      <td>2919.000000</td>\n",
       "      <td>2919.000000</td>\n",
       "      <td>1460.000000</td>\n",
       "    </tr>\n",
       "    <tr>\n",
       "      <th>mean</th>\n",
       "      <td>1460.000000</td>\n",
       "      <td>57.137718</td>\n",
       "      <td>69.305795</td>\n",
       "      <td>10168.114080</td>\n",
       "      <td>6.089072</td>\n",
       "      <td>5.564577</td>\n",
       "      <td>1971.312778</td>\n",
       "      <td>1984.264474</td>\n",
       "      <td>102.201312</td>\n",
       "      <td>441.423235</td>\n",
       "      <td>...</td>\n",
       "      <td>93.709832</td>\n",
       "      <td>47.486811</td>\n",
       "      <td>23.098321</td>\n",
       "      <td>2.602261</td>\n",
       "      <td>16.062350</td>\n",
       "      <td>2.251799</td>\n",
       "      <td>50.825968</td>\n",
       "      <td>6.213087</td>\n",
       "      <td>2007.792737</td>\n",
       "      <td>180921.195890</td>\n",
       "    </tr>\n",
       "    <tr>\n",
       "      <th>std</th>\n",
       "      <td>842.787043</td>\n",
       "      <td>42.517628</td>\n",
       "      <td>23.344905</td>\n",
       "      <td>7886.996359</td>\n",
       "      <td>1.409947</td>\n",
       "      <td>1.113131</td>\n",
       "      <td>30.291442</td>\n",
       "      <td>20.894344</td>\n",
       "      <td>179.334253</td>\n",
       "      <td>455.610826</td>\n",
       "      <td>...</td>\n",
       "      <td>126.526589</td>\n",
       "      <td>67.575493</td>\n",
       "      <td>64.244246</td>\n",
       "      <td>25.188169</td>\n",
       "      <td>56.184365</td>\n",
       "      <td>35.663946</td>\n",
       "      <td>567.402211</td>\n",
       "      <td>2.714762</td>\n",
       "      <td>1.314964</td>\n",
       "      <td>79442.502883</td>\n",
       "    </tr>\n",
       "    <tr>\n",
       "      <th>min</th>\n",
       "      <td>1.000000</td>\n",
       "      <td>20.000000</td>\n",
       "      <td>21.000000</td>\n",
       "      <td>1300.000000</td>\n",
       "      <td>1.000000</td>\n",
       "      <td>1.000000</td>\n",
       "      <td>1872.000000</td>\n",
       "      <td>1950.000000</td>\n",
       "      <td>0.000000</td>\n",
       "      <td>0.000000</td>\n",
       "      <td>...</td>\n",
       "      <td>0.000000</td>\n",
       "      <td>0.000000</td>\n",
       "      <td>0.000000</td>\n",
       "      <td>0.000000</td>\n",
       "      <td>0.000000</td>\n",
       "      <td>0.000000</td>\n",
       "      <td>0.000000</td>\n",
       "      <td>1.000000</td>\n",
       "      <td>2006.000000</td>\n",
       "      <td>34900.000000</td>\n",
       "    </tr>\n",
       "    <tr>\n",
       "      <th>25%</th>\n",
       "      <td>730.500000</td>\n",
       "      <td>20.000000</td>\n",
       "      <td>59.000000</td>\n",
       "      <td>7478.000000</td>\n",
       "      <td>5.000000</td>\n",
       "      <td>5.000000</td>\n",
       "      <td>1953.500000</td>\n",
       "      <td>1965.000000</td>\n",
       "      <td>0.000000</td>\n",
       "      <td>0.000000</td>\n",
       "      <td>...</td>\n",
       "      <td>0.000000</td>\n",
       "      <td>0.000000</td>\n",
       "      <td>0.000000</td>\n",
       "      <td>0.000000</td>\n",
       "      <td>0.000000</td>\n",
       "      <td>0.000000</td>\n",
       "      <td>0.000000</td>\n",
       "      <td>4.000000</td>\n",
       "      <td>2007.000000</td>\n",
       "      <td>129975.000000</td>\n",
       "    </tr>\n",
       "    <tr>\n",
       "      <th>50%</th>\n",
       "      <td>1460.000000</td>\n",
       "      <td>50.000000</td>\n",
       "      <td>68.000000</td>\n",
       "      <td>9453.000000</td>\n",
       "      <td>6.000000</td>\n",
       "      <td>5.000000</td>\n",
       "      <td>1973.000000</td>\n",
       "      <td>1993.000000</td>\n",
       "      <td>0.000000</td>\n",
       "      <td>368.500000</td>\n",
       "      <td>...</td>\n",
       "      <td>0.000000</td>\n",
       "      <td>26.000000</td>\n",
       "      <td>0.000000</td>\n",
       "      <td>0.000000</td>\n",
       "      <td>0.000000</td>\n",
       "      <td>0.000000</td>\n",
       "      <td>0.000000</td>\n",
       "      <td>6.000000</td>\n",
       "      <td>2008.000000</td>\n",
       "      <td>163000.000000</td>\n",
       "    </tr>\n",
       "    <tr>\n",
       "      <th>75%</th>\n",
       "      <td>2189.500000</td>\n",
       "      <td>70.000000</td>\n",
       "      <td>80.000000</td>\n",
       "      <td>11570.000000</td>\n",
       "      <td>7.000000</td>\n",
       "      <td>6.000000</td>\n",
       "      <td>2001.000000</td>\n",
       "      <td>2004.000000</td>\n",
       "      <td>164.000000</td>\n",
       "      <td>733.000000</td>\n",
       "      <td>...</td>\n",
       "      <td>168.000000</td>\n",
       "      <td>70.000000</td>\n",
       "      <td>0.000000</td>\n",
       "      <td>0.000000</td>\n",
       "      <td>0.000000</td>\n",
       "      <td>0.000000</td>\n",
       "      <td>0.000000</td>\n",
       "      <td>8.000000</td>\n",
       "      <td>2009.000000</td>\n",
       "      <td>214000.000000</td>\n",
       "    </tr>\n",
       "    <tr>\n",
       "      <th>max</th>\n",
       "      <td>2919.000000</td>\n",
       "      <td>190.000000</td>\n",
       "      <td>313.000000</td>\n",
       "      <td>215245.000000</td>\n",
       "      <td>10.000000</td>\n",
       "      <td>9.000000</td>\n",
       "      <td>2010.000000</td>\n",
       "      <td>2010.000000</td>\n",
       "      <td>1600.000000</td>\n",
       "      <td>5644.000000</td>\n",
       "      <td>...</td>\n",
       "      <td>1424.000000</td>\n",
       "      <td>742.000000</td>\n",
       "      <td>1012.000000</td>\n",
       "      <td>508.000000</td>\n",
       "      <td>576.000000</td>\n",
       "      <td>800.000000</td>\n",
       "      <td>17000.000000</td>\n",
       "      <td>12.000000</td>\n",
       "      <td>2010.000000</td>\n",
       "      <td>755000.000000</td>\n",
       "    </tr>\n",
       "  </tbody>\n",
       "</table>\n",
       "<p>8 rows × 38 columns</p>\n",
       "</div>"
      ],
      "text/plain": [
       "                Id   MSSubClass  LotFrontage        LotArea  OverallQual  \\\n",
       "count  2919.000000  2919.000000  2433.000000    2919.000000  2919.000000   \n",
       "mean   1460.000000    57.137718    69.305795   10168.114080     6.089072   \n",
       "std     842.787043    42.517628    23.344905    7886.996359     1.409947   \n",
       "min       1.000000    20.000000    21.000000    1300.000000     1.000000   \n",
       "25%     730.500000    20.000000    59.000000    7478.000000     5.000000   \n",
       "50%    1460.000000    50.000000    68.000000    9453.000000     6.000000   \n",
       "75%    2189.500000    70.000000    80.000000   11570.000000     7.000000   \n",
       "max    2919.000000   190.000000   313.000000  215245.000000    10.000000   \n",
       "\n",
       "       OverallCond    YearBuilt  YearRemodAdd   MasVnrArea   BsmtFinSF1  ...  \\\n",
       "count  2919.000000  2919.000000   2919.000000  2896.000000  2918.000000  ...   \n",
       "mean      5.564577  1971.312778   1984.264474   102.201312   441.423235  ...   \n",
       "std       1.113131    30.291442     20.894344   179.334253   455.610826  ...   \n",
       "min       1.000000  1872.000000   1950.000000     0.000000     0.000000  ...   \n",
       "25%       5.000000  1953.500000   1965.000000     0.000000     0.000000  ...   \n",
       "50%       5.000000  1973.000000   1993.000000     0.000000   368.500000  ...   \n",
       "75%       6.000000  2001.000000   2004.000000   164.000000   733.000000  ...   \n",
       "max       9.000000  2010.000000   2010.000000  1600.000000  5644.000000  ...   \n",
       "\n",
       "        WoodDeckSF  OpenPorchSF  EnclosedPorch    3SsnPorch  ScreenPorch  \\\n",
       "count  2919.000000  2919.000000    2919.000000  2919.000000  2919.000000   \n",
       "mean     93.709832    47.486811      23.098321     2.602261    16.062350   \n",
       "std     126.526589    67.575493      64.244246    25.188169    56.184365   \n",
       "min       0.000000     0.000000       0.000000     0.000000     0.000000   \n",
       "25%       0.000000     0.000000       0.000000     0.000000     0.000000   \n",
       "50%       0.000000    26.000000       0.000000     0.000000     0.000000   \n",
       "75%     168.000000    70.000000       0.000000     0.000000     0.000000   \n",
       "max    1424.000000   742.000000    1012.000000   508.000000   576.000000   \n",
       "\n",
       "          PoolArea       MiscVal       MoSold       YrSold      SalePrice  \n",
       "count  2919.000000   2919.000000  2919.000000  2919.000000    1460.000000  \n",
       "mean      2.251799     50.825968     6.213087  2007.792737  180921.195890  \n",
       "std      35.663946    567.402211     2.714762     1.314964   79442.502883  \n",
       "min       0.000000      0.000000     1.000000  2006.000000   34900.000000  \n",
       "25%       0.000000      0.000000     4.000000  2007.000000  129975.000000  \n",
       "50%       0.000000      0.000000     6.000000  2008.000000  163000.000000  \n",
       "75%       0.000000      0.000000     8.000000  2009.000000  214000.000000  \n",
       "max     800.000000  17000.000000    12.000000  2010.000000  755000.000000  \n",
       "\n",
       "[8 rows x 38 columns]"
      ]
     },
     "execution_count": 8,
     "metadata": {},
     "output_type": "execute_result"
    }
   ],
   "source": [
    "df.describe()"
   ]
  },
  {
   "cell_type": "code",
   "execution_count": 9,
   "id": "5e26e221",
   "metadata": {
    "execution": {
     "iopub.execute_input": "2024-02-21T11:44:32.908813Z",
     "iopub.status.busy": "2024-02-21T11:44:32.908400Z",
     "iopub.status.idle": "2024-02-21T11:44:32.916791Z",
     "shell.execute_reply": "2024-02-21T11:44:32.915468Z"
    },
    "papermill": {
     "duration": 0.026612,
     "end_time": "2024-02-21T11:44:32.919366",
     "exception": false,
     "start_time": "2024-02-21T11:44:32.892754",
     "status": "completed"
    },
    "tags": []
   },
   "outputs": [
    {
     "data": {
      "text/plain": [
       "(2919, 81)"
      ]
     },
     "execution_count": 9,
     "metadata": {},
     "output_type": "execute_result"
    }
   ],
   "source": [
    "df.shape"
   ]
  },
  {
   "cell_type": "code",
   "execution_count": 10,
   "id": "454b5185",
   "metadata": {
    "execution": {
     "iopub.execute_input": "2024-02-21T11:44:32.951017Z",
     "iopub.status.busy": "2024-02-21T11:44:32.950616Z",
     "iopub.status.idle": "2024-02-21T11:44:32.995658Z",
     "shell.execute_reply": "2024-02-21T11:44:32.994492Z"
    },
    "papermill": {
     "duration": 0.064426,
     "end_time": "2024-02-21T11:44:32.998248",
     "exception": false,
     "start_time": "2024-02-21T11:44:32.933822",
     "status": "completed"
    },
    "tags": []
   },
   "outputs": [
    {
     "name": "stdout",
     "output_type": "stream",
     "text": [
      "<class 'pandas.core.frame.DataFrame'>\n",
      "RangeIndex: 2919 entries, 0 to 2918\n",
      "Data columns (total 81 columns):\n",
      " #   Column         Non-Null Count  Dtype  \n",
      "---  ------         --------------  -----  \n",
      " 0   Id             2919 non-null   int64  \n",
      " 1   MSSubClass     2919 non-null   int64  \n",
      " 2   MSZoning       2915 non-null   object \n",
      " 3   LotFrontage    2433 non-null   float64\n",
      " 4   LotArea        2919 non-null   int64  \n",
      " 5   Street         2919 non-null   object \n",
      " 6   Alley          198 non-null    object \n",
      " 7   LotShape       2919 non-null   object \n",
      " 8   LandContour    2919 non-null   object \n",
      " 9   Utilities      2917 non-null   object \n",
      " 10  LotConfig      2919 non-null   object \n",
      " 11  LandSlope      2919 non-null   object \n",
      " 12  Neighborhood   2919 non-null   object \n",
      " 13  Condition1     2919 non-null   object \n",
      " 14  Condition2     2919 non-null   object \n",
      " 15  BldgType       2919 non-null   object \n",
      " 16  HouseStyle     2919 non-null   object \n",
      " 17  OverallQual    2919 non-null   int64  \n",
      " 18  OverallCond    2919 non-null   int64  \n",
      " 19  YearBuilt      2919 non-null   int64  \n",
      " 20  YearRemodAdd   2919 non-null   int64  \n",
      " 21  RoofStyle      2919 non-null   object \n",
      " 22  RoofMatl       2919 non-null   object \n",
      " 23  Exterior1st    2918 non-null   object \n",
      " 24  Exterior2nd    2918 non-null   object \n",
      " 25  MasVnrType     1153 non-null   object \n",
      " 26  MasVnrArea     2896 non-null   float64\n",
      " 27  ExterQual      2919 non-null   object \n",
      " 28  ExterCond      2919 non-null   object \n",
      " 29  Foundation     2919 non-null   object \n",
      " 30  BsmtQual       2838 non-null   object \n",
      " 31  BsmtCond       2837 non-null   object \n",
      " 32  BsmtExposure   2837 non-null   object \n",
      " 33  BsmtFinType1   2840 non-null   object \n",
      " 34  BsmtFinSF1     2918 non-null   float64\n",
      " 35  BsmtFinType2   2839 non-null   object \n",
      " 36  BsmtFinSF2     2918 non-null   float64\n",
      " 37  BsmtUnfSF      2918 non-null   float64\n",
      " 38  TotalBsmtSF    2918 non-null   float64\n",
      " 39  Heating        2919 non-null   object \n",
      " 40  HeatingQC      2919 non-null   object \n",
      " 41  CentralAir     2919 non-null   object \n",
      " 42  Electrical     2918 non-null   object \n",
      " 43  1stFlrSF       2919 non-null   int64  \n",
      " 44  2ndFlrSF       2919 non-null   int64  \n",
      " 45  LowQualFinSF   2919 non-null   int64  \n",
      " 46  GrLivArea      2919 non-null   int64  \n",
      " 47  BsmtFullBath   2917 non-null   float64\n",
      " 48  BsmtHalfBath   2917 non-null   float64\n",
      " 49  FullBath       2919 non-null   int64  \n",
      " 50  HalfBath       2919 non-null   int64  \n",
      " 51  BedroomAbvGr   2919 non-null   int64  \n",
      " 52  KitchenAbvGr   2919 non-null   int64  \n",
      " 53  KitchenQual    2918 non-null   object \n",
      " 54  TotRmsAbvGrd   2919 non-null   int64  \n",
      " 55  Functional     2917 non-null   object \n",
      " 56  Fireplaces     2919 non-null   int64  \n",
      " 57  FireplaceQu    1499 non-null   object \n",
      " 58  GarageType     2762 non-null   object \n",
      " 59  GarageYrBlt    2760 non-null   float64\n",
      " 60  GarageFinish   2760 non-null   object \n",
      " 61  GarageCars     2918 non-null   float64\n",
      " 62  GarageArea     2918 non-null   float64\n",
      " 63  GarageQual     2760 non-null   object \n",
      " 64  GarageCond     2760 non-null   object \n",
      " 65  PavedDrive     2919 non-null   object \n",
      " 66  WoodDeckSF     2919 non-null   int64  \n",
      " 67  OpenPorchSF    2919 non-null   int64  \n",
      " 68  EnclosedPorch  2919 non-null   int64  \n",
      " 69  3SsnPorch      2919 non-null   int64  \n",
      " 70  ScreenPorch    2919 non-null   int64  \n",
      " 71  PoolArea       2919 non-null   int64  \n",
      " 72  PoolQC         10 non-null     object \n",
      " 73  Fence          571 non-null    object \n",
      " 74  MiscFeature    105 non-null    object \n",
      " 75  MiscVal        2919 non-null   int64  \n",
      " 76  MoSold         2919 non-null   int64  \n",
      " 77  YrSold         2919 non-null   int64  \n",
      " 78  SaleType       2918 non-null   object \n",
      " 79  SaleCondition  2919 non-null   object \n",
      " 80  SalePrice      1460 non-null   float64\n",
      "dtypes: float64(12), int64(26), object(43)\n",
      "memory usage: 1.8+ MB\n"
     ]
    }
   ],
   "source": [
    "df.info()"
   ]
  },
  {
   "cell_type": "code",
   "execution_count": 11,
   "id": "b5e73432",
   "metadata": {
    "execution": {
     "iopub.execute_input": "2024-02-21T11:44:33.029760Z",
     "iopub.status.busy": "2024-02-21T11:44:33.028612Z",
     "iopub.status.idle": "2024-02-21T11:44:33.071998Z",
     "shell.execute_reply": "2024-02-21T11:44:33.070729Z"
    },
    "papermill": {
     "duration": 0.061929,
     "end_time": "2024-02-21T11:44:33.074575",
     "exception": false,
     "start_time": "2024-02-21T11:44:33.012646",
     "status": "completed"
    },
    "tags": []
   },
   "outputs": [
    {
     "name": "stdout",
     "output_type": "stream",
     "text": [
      "MSZoning \t object \t 4\n",
      "LotFrontage \t float64 \t 486\n",
      "Alley \t object \t 2721\n",
      "Utilities \t object \t 2\n",
      "Exterior1st \t object \t 1\n",
      "Exterior2nd \t object \t 1\n",
      "MasVnrType \t object \t 1766\n",
      "MasVnrArea \t float64 \t 23\n",
      "BsmtQual \t object \t 81\n",
      "BsmtCond \t object \t 82\n",
      "BsmtExposure \t object \t 82\n",
      "BsmtFinType1 \t object \t 79\n",
      "BsmtFinSF1 \t float64 \t 1\n",
      "BsmtFinType2 \t object \t 80\n",
      "BsmtFinSF2 \t float64 \t 1\n",
      "BsmtUnfSF \t float64 \t 1\n",
      "TotalBsmtSF \t float64 \t 1\n",
      "Electrical \t object \t 1\n",
      "BsmtFullBath \t float64 \t 2\n",
      "BsmtHalfBath \t float64 \t 2\n",
      "KitchenQual \t object \t 1\n",
      "Functional \t object \t 2\n",
      "FireplaceQu \t object \t 1420\n",
      "GarageType \t object \t 157\n",
      "GarageYrBlt \t float64 \t 159\n",
      "GarageFinish \t object \t 159\n",
      "GarageCars \t float64 \t 1\n",
      "GarageArea \t float64 \t 1\n",
      "GarageQual \t object \t 159\n",
      "GarageCond \t object \t 159\n",
      "PoolQC \t object \t 2909\n",
      "Fence \t object \t 2348\n",
      "MiscFeature \t object \t 2814\n",
      "SaleType \t object \t 1\n",
      "SalePrice \t float64 \t 1459\n"
     ]
    }
   ],
   "source": [
    "for col in df.columns:\n",
    "    if df[col].isnull().sum() > 0:\n",
    "        print(col, \"\\t\" , df[col].dtype, \"\\t\" , df[col].isnull().sum())"
   ]
  },
  {
   "cell_type": "code",
   "execution_count": 12,
   "id": "9cc1981e",
   "metadata": {
    "execution": {
     "iopub.execute_input": "2024-02-21T11:44:33.106394Z",
     "iopub.status.busy": "2024-02-21T11:44:33.105987Z",
     "iopub.status.idle": "2024-02-21T11:44:33.111595Z",
     "shell.execute_reply": "2024-02-21T11:44:33.110399Z"
    },
    "papermill": {
     "duration": 0.024656,
     "end_time": "2024-02-21T11:44:33.114237",
     "exception": false,
     "start_time": "2024-02-21T11:44:33.089581",
     "status": "completed"
    },
    "tags": []
   },
   "outputs": [],
   "source": [
    "knn_imputer = KNNImputer(n_neighbors=5)  "
   ]
  },
  {
   "cell_type": "code",
   "execution_count": 13,
   "id": "83d191fb",
   "metadata": {
    "execution": {
     "iopub.execute_input": "2024-02-21T11:44:33.145930Z",
     "iopub.status.busy": "2024-02-21T11:44:33.145477Z",
     "iopub.status.idle": "2024-02-21T11:44:33.460519Z",
     "shell.execute_reply": "2024-02-21T11:44:33.459129Z"
    },
    "papermill": {
     "duration": 0.334504,
     "end_time": "2024-02-21T11:44:33.463546",
     "exception": false,
     "start_time": "2024-02-21T11:44:33.129042",
     "status": "completed"
    },
    "tags": []
   },
   "outputs": [],
   "source": [
    "for col in df._get_numeric_data().columns:\n",
    "    if col!='SalePrice':\n",
    "        df[col] = knn_imputer.fit_transform(df[col].values.reshape(-1, 1))\n",
    "        \n",
    "for col in df.select_dtypes(include=['O']):\n",
    "    df[col].fillna(df[col].mode()[0], inplace=True)"
   ]
  },
  {
   "cell_type": "code",
   "execution_count": 14,
   "id": "d885b51b",
   "metadata": {
    "execution": {
     "iopub.execute_input": "2024-02-21T11:44:33.495651Z",
     "iopub.status.busy": "2024-02-21T11:44:33.494441Z",
     "iopub.status.idle": "2024-02-21T11:44:33.521778Z",
     "shell.execute_reply": "2024-02-21T11:44:33.520477Z"
    },
    "papermill": {
     "duration": 0.046323,
     "end_time": "2024-02-21T11:44:33.524575",
     "exception": false,
     "start_time": "2024-02-21T11:44:33.478252",
     "status": "completed"
    },
    "tags": []
   },
   "outputs": [
    {
     "data": {
      "text/plain": [
       "Id                 0\n",
       "FireplaceQu        0\n",
       "Fireplaces         0\n",
       "Functional         0\n",
       "TotRmsAbvGrd       0\n",
       "                ... \n",
       "Exterior1st        0\n",
       "RoofMatl           0\n",
       "RoofStyle          0\n",
       "Heating            0\n",
       "SalePrice       1459\n",
       "Length: 81, dtype: int64"
      ]
     },
     "execution_count": 14,
     "metadata": {},
     "output_type": "execute_result"
    }
   ],
   "source": [
    "df.isnull().sum().sort_values()"
   ]
  },
  {
   "cell_type": "code",
   "execution_count": 15,
   "id": "18eda2c0",
   "metadata": {
    "execution": {
     "iopub.execute_input": "2024-02-21T11:44:33.557194Z",
     "iopub.status.busy": "2024-02-21T11:44:33.556784Z",
     "iopub.status.idle": "2024-02-21T11:44:33.567398Z",
     "shell.execute_reply": "2024-02-21T11:44:33.565972Z"
    },
    "papermill": {
     "duration": 0.030419,
     "end_time": "2024-02-21T11:44:33.569965",
     "exception": false,
     "start_time": "2024-02-21T11:44:33.539546",
     "status": "completed"
    },
    "tags": []
   },
   "outputs": [],
   "source": [
    "df = df.drop('Id', axis=1)"
   ]
  },
  {
   "cell_type": "code",
   "execution_count": 16,
   "id": "965556d3",
   "metadata": {
    "execution": {
     "iopub.execute_input": "2024-02-21T11:44:33.601618Z",
     "iopub.status.busy": "2024-02-21T11:44:33.601176Z",
     "iopub.status.idle": "2024-02-21T11:44:33.634033Z",
     "shell.execute_reply": "2024-02-21T11:44:33.633088Z"
    },
    "papermill": {
     "duration": 0.051488,
     "end_time": "2024-02-21T11:44:33.636361",
     "exception": false,
     "start_time": "2024-02-21T11:44:33.584873",
     "status": "completed"
    },
    "tags": []
   },
   "outputs": [
    {
     "data": {
      "text/html": [
       "<div>\n",
       "<style scoped>\n",
       "    .dataframe tbody tr th:only-of-type {\n",
       "        vertical-align: middle;\n",
       "    }\n",
       "\n",
       "    .dataframe tbody tr th {\n",
       "        vertical-align: top;\n",
       "    }\n",
       "\n",
       "    .dataframe thead th {\n",
       "        text-align: right;\n",
       "    }\n",
       "</style>\n",
       "<table border=\"1\" class=\"dataframe\">\n",
       "  <thead>\n",
       "    <tr style=\"text-align: right;\">\n",
       "      <th></th>\n",
       "      <th>MSSubClass</th>\n",
       "      <th>MSZoning</th>\n",
       "      <th>LotFrontage</th>\n",
       "      <th>LotArea</th>\n",
       "      <th>Street</th>\n",
       "      <th>Alley</th>\n",
       "      <th>LotShape</th>\n",
       "      <th>LandContour</th>\n",
       "      <th>Utilities</th>\n",
       "      <th>LotConfig</th>\n",
       "      <th>...</th>\n",
       "      <th>PoolArea</th>\n",
       "      <th>PoolQC</th>\n",
       "      <th>Fence</th>\n",
       "      <th>MiscFeature</th>\n",
       "      <th>MiscVal</th>\n",
       "      <th>MoSold</th>\n",
       "      <th>YrSold</th>\n",
       "      <th>SaleType</th>\n",
       "      <th>SaleCondition</th>\n",
       "      <th>SalePrice</th>\n",
       "    </tr>\n",
       "  </thead>\n",
       "  <tbody>\n",
       "    <tr>\n",
       "      <th>0</th>\n",
       "      <td>60.0</td>\n",
       "      <td>RL</td>\n",
       "      <td>65.0</td>\n",
       "      <td>8450.0</td>\n",
       "      <td>Pave</td>\n",
       "      <td>Grvl</td>\n",
       "      <td>Reg</td>\n",
       "      <td>Lvl</td>\n",
       "      <td>AllPub</td>\n",
       "      <td>Inside</td>\n",
       "      <td>...</td>\n",
       "      <td>0.0</td>\n",
       "      <td>Ex</td>\n",
       "      <td>MnPrv</td>\n",
       "      <td>Shed</td>\n",
       "      <td>0.0</td>\n",
       "      <td>2.0</td>\n",
       "      <td>2008.0</td>\n",
       "      <td>WD</td>\n",
       "      <td>Normal</td>\n",
       "      <td>208500.0</td>\n",
       "    </tr>\n",
       "    <tr>\n",
       "      <th>1</th>\n",
       "      <td>20.0</td>\n",
       "      <td>RL</td>\n",
       "      <td>80.0</td>\n",
       "      <td>9600.0</td>\n",
       "      <td>Pave</td>\n",
       "      <td>Grvl</td>\n",
       "      <td>Reg</td>\n",
       "      <td>Lvl</td>\n",
       "      <td>AllPub</td>\n",
       "      <td>FR2</td>\n",
       "      <td>...</td>\n",
       "      <td>0.0</td>\n",
       "      <td>Ex</td>\n",
       "      <td>MnPrv</td>\n",
       "      <td>Shed</td>\n",
       "      <td>0.0</td>\n",
       "      <td>5.0</td>\n",
       "      <td>2007.0</td>\n",
       "      <td>WD</td>\n",
       "      <td>Normal</td>\n",
       "      <td>181500.0</td>\n",
       "    </tr>\n",
       "    <tr>\n",
       "      <th>2</th>\n",
       "      <td>60.0</td>\n",
       "      <td>RL</td>\n",
       "      <td>68.0</td>\n",
       "      <td>11250.0</td>\n",
       "      <td>Pave</td>\n",
       "      <td>Grvl</td>\n",
       "      <td>IR1</td>\n",
       "      <td>Lvl</td>\n",
       "      <td>AllPub</td>\n",
       "      <td>Inside</td>\n",
       "      <td>...</td>\n",
       "      <td>0.0</td>\n",
       "      <td>Ex</td>\n",
       "      <td>MnPrv</td>\n",
       "      <td>Shed</td>\n",
       "      <td>0.0</td>\n",
       "      <td>9.0</td>\n",
       "      <td>2008.0</td>\n",
       "      <td>WD</td>\n",
       "      <td>Normal</td>\n",
       "      <td>223500.0</td>\n",
       "    </tr>\n",
       "    <tr>\n",
       "      <th>3</th>\n",
       "      <td>70.0</td>\n",
       "      <td>RL</td>\n",
       "      <td>60.0</td>\n",
       "      <td>9550.0</td>\n",
       "      <td>Pave</td>\n",
       "      <td>Grvl</td>\n",
       "      <td>IR1</td>\n",
       "      <td>Lvl</td>\n",
       "      <td>AllPub</td>\n",
       "      <td>Corner</td>\n",
       "      <td>...</td>\n",
       "      <td>0.0</td>\n",
       "      <td>Ex</td>\n",
       "      <td>MnPrv</td>\n",
       "      <td>Shed</td>\n",
       "      <td>0.0</td>\n",
       "      <td>2.0</td>\n",
       "      <td>2006.0</td>\n",
       "      <td>WD</td>\n",
       "      <td>Abnorml</td>\n",
       "      <td>140000.0</td>\n",
       "    </tr>\n",
       "    <tr>\n",
       "      <th>4</th>\n",
       "      <td>60.0</td>\n",
       "      <td>RL</td>\n",
       "      <td>84.0</td>\n",
       "      <td>14260.0</td>\n",
       "      <td>Pave</td>\n",
       "      <td>Grvl</td>\n",
       "      <td>IR1</td>\n",
       "      <td>Lvl</td>\n",
       "      <td>AllPub</td>\n",
       "      <td>FR2</td>\n",
       "      <td>...</td>\n",
       "      <td>0.0</td>\n",
       "      <td>Ex</td>\n",
       "      <td>MnPrv</td>\n",
       "      <td>Shed</td>\n",
       "      <td>0.0</td>\n",
       "      <td>12.0</td>\n",
       "      <td>2008.0</td>\n",
       "      <td>WD</td>\n",
       "      <td>Normal</td>\n",
       "      <td>250000.0</td>\n",
       "    </tr>\n",
       "  </tbody>\n",
       "</table>\n",
       "<p>5 rows × 80 columns</p>\n",
       "</div>"
      ],
      "text/plain": [
       "   MSSubClass MSZoning  LotFrontage  LotArea Street Alley LotShape  \\\n",
       "0        60.0       RL         65.0   8450.0   Pave  Grvl      Reg   \n",
       "1        20.0       RL         80.0   9600.0   Pave  Grvl      Reg   \n",
       "2        60.0       RL         68.0  11250.0   Pave  Grvl      IR1   \n",
       "3        70.0       RL         60.0   9550.0   Pave  Grvl      IR1   \n",
       "4        60.0       RL         84.0  14260.0   Pave  Grvl      IR1   \n",
       "\n",
       "  LandContour Utilities LotConfig  ... PoolArea PoolQC  Fence MiscFeature  \\\n",
       "0         Lvl    AllPub    Inside  ...      0.0     Ex  MnPrv        Shed   \n",
       "1         Lvl    AllPub       FR2  ...      0.0     Ex  MnPrv        Shed   \n",
       "2         Lvl    AllPub    Inside  ...      0.0     Ex  MnPrv        Shed   \n",
       "3         Lvl    AllPub    Corner  ...      0.0     Ex  MnPrv        Shed   \n",
       "4         Lvl    AllPub       FR2  ...      0.0     Ex  MnPrv        Shed   \n",
       "\n",
       "  MiscVal MoSold  YrSold  SaleType  SaleCondition  SalePrice  \n",
       "0     0.0    2.0  2008.0        WD         Normal   208500.0  \n",
       "1     0.0    5.0  2007.0        WD         Normal   181500.0  \n",
       "2     0.0    9.0  2008.0        WD         Normal   223500.0  \n",
       "3     0.0    2.0  2006.0        WD        Abnorml   140000.0  \n",
       "4     0.0   12.0  2008.0        WD         Normal   250000.0  \n",
       "\n",
       "[5 rows x 80 columns]"
      ]
     },
     "execution_count": 16,
     "metadata": {},
     "output_type": "execute_result"
    }
   ],
   "source": [
    "df.head()"
   ]
  },
  {
   "cell_type": "code",
   "execution_count": 17,
   "id": "185358cd",
   "metadata": {
    "execution": {
     "iopub.execute_input": "2024-02-21T11:44:33.668986Z",
     "iopub.status.busy": "2024-02-21T11:44:33.668566Z",
     "iopub.status.idle": "2024-02-21T11:44:33.689045Z",
     "shell.execute_reply": "2024-02-21T11:44:33.687879Z"
    },
    "papermill": {
     "duration": 0.039881,
     "end_time": "2024-02-21T11:44:33.691622",
     "exception": false,
     "start_time": "2024-02-21T11:44:33.651741",
     "status": "completed"
    },
    "tags": []
   },
   "outputs": [],
   "source": [
    "def transform_dataframe():\n",
    "    # Copy the input DataFrame to avoid modifying the original\n",
    "\n",
    "    # Mapping dictionary for quality-related columns\n",
    "    qual_dict = {'Ex': 5, 'Gd': 4, 'TA': 3, 'Fa': 2, 'Po': 1, 'No': 0}\n",
    "\n",
    "    # Mapping for 'Fence'\n",
    "    df['Fence'] = df['Fence'].map({'No': 0, 'MnWw': 1, 'GdWo': 2, 'MnPrv': 3, 'GdPrv': 4})\n",
    "\n",
    "    # Mapping for quality-related columns\n",
    "    quality_columns = ['PoolQC', 'HeatingQC', 'KitchenQual', 'ExterQual', 'ExterCond', 'BsmtQual',\n",
    "                       'GarageQual', 'GarageCond', 'FireplaceQu']\n",
    "    for col in quality_columns:\n",
    "        df[col] = df[col].map(qual_dict)\n",
    "\n",
    "    # Mapping for 'BsmtFinType2'\n",
    "    BsmtFinType_dict = {'Unf': 1, 'No': 0, 'LwQ': 2, 'Rec': 3, 'BLQ': 4, 'ALQ': 5, 'GLQ': 6}\n",
    "    df['BsmtFinType2'] = df['BsmtFinType2'].map(BsmtFinType_dict)\n",
    "\n",
    "    # Mapping for 'BsmtExposure'\n",
    "    df['BsmtExposure'] = df['BsmtExposure'].map({'Gd': 4, 'Av': 3, 'Mn': 2, 'No': 0})\n",
    "\n",
    "    # Feature engineering\n",
    "    df['TotalSF'] = df['BsmtFinSF1'] + df['BsmtFinSF2'] + df['1stFlrSF'] + df['2ndFlrSF']\n",
    "    df['Total_porch_sf'] = df['OpenPorchSF'] + df['3SsnPorch'] + df['EnclosedPorch'] + df['ScreenPorch'] + df['WoodDeckSF']\n",
    "    df['GrDividedLotArea'] = df['GrLivArea'] / df['LotArea']\n",
    "    df['KitchenBedroomAbvGr'] = df['KitchenAbvGr'] + df['BedroomAbvGr']\n",
    "    todays_date = date.today()\n",
    "    df[\"Building_age\"] = todays_date.year - df[\"YearBuilt\"].astype('int')\n",
    "    df['Sold_GarageYrBlt'] = df['YrSold'].astype(int) - df['GarageYrBlt'].astype('float')\n",
    "    df['Sold_GarageYrBlt'] = df['Sold_GarageYrBlt'].astype(str)\n",
    "    df['Sold_Built'] = df['YrSold'].astype(int) - df['YearBuilt'].astype(int)\n",
    "    df['Sold_Built'] = df['Sold_Built'].astype(str)\n",
    "    df['Sold_RemodAdd'] = df['YrSold'].astype(int) - df['YearRemodAdd'].astype('float')\n",
    "    df['Sold_RemodAdd'] = df['Sold_RemodAdd'].astype('str')\n",
    "    df[\"HighQualSF\"] = df[\"1stFlrSF\"] + df[\"2ndFlrSF\"]\n",
    "    df[\"SqFtPerRoom\"] = df[\"GrLivArea\"] / (df[\"TotRmsAbvGrd\"] +\n",
    "                                           df[\"FullBath\"] +\n",
    "                                           df[\"HalfBath\"] +\n",
    "                                           df[\"KitchenAbvGr\"])\n",
    "\n",
    "    # Binary features\n",
    "    df['HasTotalBsmtSF'] = [0 if i == 0 else 1 for i in df['TotalBsmtSF'].astype(int)]\n",
    "    df['Has2ndFlrSF'] = [0 if i == 0 else 1 for i in df['2ndFlrSF'].astype(int)]\n",
    "    df['HasPool'] = df['PoolArea'].apply(lambda x: 1 if x > 0 else 0)\n",
    "    df['Has2ndfloor'] = df['2ndFlrSF'].apply(lambda x: 1 if x > 0 else 0)\n",
    "    df['HasGarage'] = df['GarageArea'].apply(lambda x: 1 if x > 0 else 0)\n",
    "    df['HasBsmt'] = df['TotalBsmtSF'].apply(lambda x: 1 if x > 0 else 0)\n",
    "    df['Hasfireplace'] = df['Fireplaces'].apply(lambda x: 1 if x > 0 else 0)\n",
    "\n",
    "    return df"
   ]
  },
  {
   "cell_type": "code",
   "execution_count": 18,
   "id": "780c9cdf",
   "metadata": {
    "execution": {
     "iopub.execute_input": "2024-02-21T11:44:33.724594Z",
     "iopub.status.busy": "2024-02-21T11:44:33.724140Z",
     "iopub.status.idle": "2024-02-21T11:44:33.781358Z",
     "shell.execute_reply": "2024-02-21T11:44:33.780239Z"
    },
    "papermill": {
     "duration": 0.077244,
     "end_time": "2024-02-21T11:44:33.784080",
     "exception": false,
     "start_time": "2024-02-21T11:44:33.706836",
     "status": "completed"
    },
    "tags": []
   },
   "outputs": [],
   "source": [
    "transformed_df = transform_dataframe()"
   ]
  },
  {
   "cell_type": "code",
   "execution_count": 19,
   "id": "2a19ede3",
   "metadata": {
    "execution": {
     "iopub.execute_input": "2024-02-21T11:44:33.817175Z",
     "iopub.status.busy": "2024-02-21T11:44:33.816796Z",
     "iopub.status.idle": "2024-02-21T11:44:33.842712Z",
     "shell.execute_reply": "2024-02-21T11:44:33.841408Z"
    },
    "papermill": {
     "duration": 0.045159,
     "end_time": "2024-02-21T11:44:33.845219",
     "exception": false,
     "start_time": "2024-02-21T11:44:33.800060",
     "status": "completed"
    },
    "tags": []
   },
   "outputs": [
    {
     "data": {
      "text/plain": [
       "MSSubClass          0\n",
       "ScreenPorch         0\n",
       "3SsnPorch           0\n",
       "EnclosedPorch       0\n",
       "OpenPorchSF         0\n",
       "                 ... \n",
       "ExterQual           0\n",
       "MasVnrArea          0\n",
       "BsmtFinType2        0\n",
       "Hasfireplace        0\n",
       "SalePrice        1459\n",
       "Length: 97, dtype: int64"
      ]
     },
     "execution_count": 19,
     "metadata": {},
     "output_type": "execute_result"
    }
   ],
   "source": [
    "transformed_df.isnull().sum().sort_values()"
   ]
  },
  {
   "cell_type": "code",
   "execution_count": 20,
   "id": "1f0f0dcf",
   "metadata": {
    "execution": {
     "iopub.execute_input": "2024-02-21T11:44:33.878035Z",
     "iopub.status.busy": "2024-02-21T11:44:33.877597Z",
     "iopub.status.idle": "2024-02-21T11:44:33.906878Z",
     "shell.execute_reply": "2024-02-21T11:44:33.905569Z"
    },
    "papermill": {
     "duration": 0.04879,
     "end_time": "2024-02-21T11:44:33.909415",
     "exception": false,
     "start_time": "2024-02-21T11:44:33.860625",
     "status": "completed"
    },
    "tags": []
   },
   "outputs": [
    {
     "data": {
      "text/html": [
       "<div>\n",
       "<style scoped>\n",
       "    .dataframe tbody tr th:only-of-type {\n",
       "        vertical-align: middle;\n",
       "    }\n",
       "\n",
       "    .dataframe tbody tr th {\n",
       "        vertical-align: top;\n",
       "    }\n",
       "\n",
       "    .dataframe thead th {\n",
       "        text-align: right;\n",
       "    }\n",
       "</style>\n",
       "<table border=\"1\" class=\"dataframe\">\n",
       "  <thead>\n",
       "    <tr style=\"text-align: right;\">\n",
       "      <th></th>\n",
       "      <th>MSSubClass</th>\n",
       "      <th>MSZoning</th>\n",
       "      <th>LotFrontage</th>\n",
       "      <th>LotArea</th>\n",
       "      <th>Street</th>\n",
       "      <th>Alley</th>\n",
       "      <th>LotShape</th>\n",
       "      <th>LandContour</th>\n",
       "      <th>Utilities</th>\n",
       "      <th>LotConfig</th>\n",
       "      <th>...</th>\n",
       "      <th>Sold_RemodAdd</th>\n",
       "      <th>HighQualSF</th>\n",
       "      <th>SqFtPerRoom</th>\n",
       "      <th>HasTotalBsmtSF</th>\n",
       "      <th>Has2ndFlrSF</th>\n",
       "      <th>HasPool</th>\n",
       "      <th>Has2ndfloor</th>\n",
       "      <th>HasGarage</th>\n",
       "      <th>HasBsmt</th>\n",
       "      <th>Hasfireplace</th>\n",
       "    </tr>\n",
       "  </thead>\n",
       "  <tbody>\n",
       "    <tr>\n",
       "      <th>0</th>\n",
       "      <td>60.0</td>\n",
       "      <td>RL</td>\n",
       "      <td>65.0</td>\n",
       "      <td>8450.0</td>\n",
       "      <td>Pave</td>\n",
       "      <td>Grvl</td>\n",
       "      <td>Reg</td>\n",
       "      <td>Lvl</td>\n",
       "      <td>AllPub</td>\n",
       "      <td>Inside</td>\n",
       "      <td>...</td>\n",
       "      <td>5.0</td>\n",
       "      <td>1710.0</td>\n",
       "      <td>142.500000</td>\n",
       "      <td>1</td>\n",
       "      <td>1</td>\n",
       "      <td>0</td>\n",
       "      <td>1</td>\n",
       "      <td>1</td>\n",
       "      <td>1</td>\n",
       "      <td>0</td>\n",
       "    </tr>\n",
       "    <tr>\n",
       "      <th>1</th>\n",
       "      <td>20.0</td>\n",
       "      <td>RL</td>\n",
       "      <td>80.0</td>\n",
       "      <td>9600.0</td>\n",
       "      <td>Pave</td>\n",
       "      <td>Grvl</td>\n",
       "      <td>Reg</td>\n",
       "      <td>Lvl</td>\n",
       "      <td>AllPub</td>\n",
       "      <td>FR2</td>\n",
       "      <td>...</td>\n",
       "      <td>31.0</td>\n",
       "      <td>1262.0</td>\n",
       "      <td>140.222222</td>\n",
       "      <td>1</td>\n",
       "      <td>0</td>\n",
       "      <td>0</td>\n",
       "      <td>0</td>\n",
       "      <td>1</td>\n",
       "      <td>1</td>\n",
       "      <td>1</td>\n",
       "    </tr>\n",
       "    <tr>\n",
       "      <th>2</th>\n",
       "      <td>60.0</td>\n",
       "      <td>RL</td>\n",
       "      <td>68.0</td>\n",
       "      <td>11250.0</td>\n",
       "      <td>Pave</td>\n",
       "      <td>Grvl</td>\n",
       "      <td>IR1</td>\n",
       "      <td>Lvl</td>\n",
       "      <td>AllPub</td>\n",
       "      <td>Inside</td>\n",
       "      <td>...</td>\n",
       "      <td>6.0</td>\n",
       "      <td>1786.0</td>\n",
       "      <td>178.600000</td>\n",
       "      <td>1</td>\n",
       "      <td>1</td>\n",
       "      <td>0</td>\n",
       "      <td>1</td>\n",
       "      <td>1</td>\n",
       "      <td>1</td>\n",
       "      <td>1</td>\n",
       "    </tr>\n",
       "    <tr>\n",
       "      <th>3</th>\n",
       "      <td>70.0</td>\n",
       "      <td>RL</td>\n",
       "      <td>60.0</td>\n",
       "      <td>9550.0</td>\n",
       "      <td>Pave</td>\n",
       "      <td>Grvl</td>\n",
       "      <td>IR1</td>\n",
       "      <td>Lvl</td>\n",
       "      <td>AllPub</td>\n",
       "      <td>Corner</td>\n",
       "      <td>...</td>\n",
       "      <td>36.0</td>\n",
       "      <td>1717.0</td>\n",
       "      <td>190.777778</td>\n",
       "      <td>1</td>\n",
       "      <td>1</td>\n",
       "      <td>0</td>\n",
       "      <td>1</td>\n",
       "      <td>1</td>\n",
       "      <td>1</td>\n",
       "      <td>1</td>\n",
       "    </tr>\n",
       "    <tr>\n",
       "      <th>4</th>\n",
       "      <td>60.0</td>\n",
       "      <td>RL</td>\n",
       "      <td>84.0</td>\n",
       "      <td>14260.0</td>\n",
       "      <td>Pave</td>\n",
       "      <td>Grvl</td>\n",
       "      <td>IR1</td>\n",
       "      <td>Lvl</td>\n",
       "      <td>AllPub</td>\n",
       "      <td>FR2</td>\n",
       "      <td>...</td>\n",
       "      <td>8.0</td>\n",
       "      <td>2198.0</td>\n",
       "      <td>169.076923</td>\n",
       "      <td>1</td>\n",
       "      <td>1</td>\n",
       "      <td>0</td>\n",
       "      <td>1</td>\n",
       "      <td>1</td>\n",
       "      <td>1</td>\n",
       "      <td>1</td>\n",
       "    </tr>\n",
       "  </tbody>\n",
       "</table>\n",
       "<p>5 rows × 97 columns</p>\n",
       "</div>"
      ],
      "text/plain": [
       "   MSSubClass MSZoning  LotFrontage  LotArea Street Alley LotShape  \\\n",
       "0        60.0       RL         65.0   8450.0   Pave  Grvl      Reg   \n",
       "1        20.0       RL         80.0   9600.0   Pave  Grvl      Reg   \n",
       "2        60.0       RL         68.0  11250.0   Pave  Grvl      IR1   \n",
       "3        70.0       RL         60.0   9550.0   Pave  Grvl      IR1   \n",
       "4        60.0       RL         84.0  14260.0   Pave  Grvl      IR1   \n",
       "\n",
       "  LandContour Utilities LotConfig  ... Sold_RemodAdd HighQualSF SqFtPerRoom  \\\n",
       "0         Lvl    AllPub    Inside  ...           5.0     1710.0  142.500000   \n",
       "1         Lvl    AllPub       FR2  ...          31.0     1262.0  140.222222   \n",
       "2         Lvl    AllPub    Inside  ...           6.0     1786.0  178.600000   \n",
       "3         Lvl    AllPub    Corner  ...          36.0     1717.0  190.777778   \n",
       "4         Lvl    AllPub       FR2  ...           8.0     2198.0  169.076923   \n",
       "\n",
       "  HasTotalBsmtSF Has2ndFlrSF HasPool  Has2ndfloor  HasGarage  HasBsmt  \\\n",
       "0              1           1       0            1          1        1   \n",
       "1              1           0       0            0          1        1   \n",
       "2              1           1       0            1          1        1   \n",
       "3              1           1       0            1          1        1   \n",
       "4              1           1       0            1          1        1   \n",
       "\n",
       "   Hasfireplace  \n",
       "0             0  \n",
       "1             1  \n",
       "2             1  \n",
       "3             1  \n",
       "4             1  \n",
       "\n",
       "[5 rows x 97 columns]"
      ]
     },
     "execution_count": 20,
     "metadata": {},
     "output_type": "execute_result"
    }
   ],
   "source": [
    "transformed_df.head()"
   ]
  },
  {
   "cell_type": "code",
   "execution_count": 21,
   "id": "33a19d3b",
   "metadata": {
    "execution": {
     "iopub.execute_input": "2024-02-21T11:44:33.943238Z",
     "iopub.status.busy": "2024-02-21T11:44:33.942809Z",
     "iopub.status.idle": "2024-02-21T11:44:33.992645Z",
     "shell.execute_reply": "2024-02-21T11:44:33.991111Z"
    },
    "papermill": {
     "duration": 0.070314,
     "end_time": "2024-02-21T11:44:33.995622",
     "exception": false,
     "start_time": "2024-02-21T11:44:33.925308",
     "status": "completed"
    },
    "tags": []
   },
   "outputs": [],
   "source": [
    "df = pd.get_dummies(transformed_df, drop_first=True)"
   ]
  },
  {
   "cell_type": "code",
   "execution_count": 22,
   "id": "2c253901",
   "metadata": {
    "execution": {
     "iopub.execute_input": "2024-02-21T11:44:34.030113Z",
     "iopub.status.busy": "2024-02-21T11:44:34.029404Z",
     "iopub.status.idle": "2024-02-21T11:44:34.046876Z",
     "shell.execute_reply": "2024-02-21T11:44:34.045549Z"
    },
    "papermill": {
     "duration": 0.038462,
     "end_time": "2024-02-21T11:44:34.049947",
     "exception": false,
     "start_time": "2024-02-21T11:44:34.011485",
     "status": "completed"
    },
    "tags": []
   },
   "outputs": [],
   "source": [
    "train=df[df['SalePrice'].notnull()]\n",
    "test=df[df['SalePrice'].isnull()].drop('SalePrice', axis=1)"
   ]
  },
  {
   "cell_type": "code",
   "execution_count": 23,
   "id": "d01f9869",
   "metadata": {
    "execution": {
     "iopub.execute_input": "2024-02-21T11:44:34.084265Z",
     "iopub.status.busy": "2024-02-21T11:44:34.083282Z",
     "iopub.status.idle": "2024-02-21T11:44:34.112323Z",
     "shell.execute_reply": "2024-02-21T11:44:34.111091Z"
    },
    "papermill": {
     "duration": 0.049306,
     "end_time": "2024-02-21T11:44:34.115171",
     "exception": false,
     "start_time": "2024-02-21T11:44:34.065865",
     "status": "completed"
    },
    "tags": []
   },
   "outputs": [],
   "source": [
    "from sklearn.feature_selection import mutual_info_regression\n",
    "\n",
    "def add_random_column_and_select_features(train, target_col='target'):\n",
    "    random_col = 'Random_Column'\n",
    "    df = train.copy()\n",
    "    df[random_col] = np.random.rand(len(df))\n",
    "\n",
    "    mi_scores = pd.Series(index=df.columns, dtype=float)\n",
    "    for col in df.columns:\n",
    "        if col != target_col:\n",
    "            mi_scores[col] = mutual_info_regression(df[[col]], df[target_col])\n",
    "\n",
    "    print(\"Mutual Information Scores:\")\n",
    "    print(mi_scores)\n",
    "\n",
    "    less_important_cols = mi_scores[mi_scores < mi_scores[random_col]].index\n",
    "\n",
    "    return less_important_cols"
   ]
  },
  {
   "cell_type": "code",
   "execution_count": 24,
   "id": "4a5eeed0",
   "metadata": {
    "execution": {
     "iopub.execute_input": "2024-02-21T11:44:34.149630Z",
     "iopub.status.busy": "2024-02-21T11:44:34.149199Z",
     "iopub.status.idle": "2024-02-21T11:44:40.425174Z",
     "shell.execute_reply": "2024-02-21T11:44:40.423998Z"
    },
    "papermill": {
     "duration": 6.296055,
     "end_time": "2024-02-21T11:44:40.427595",
     "exception": false,
     "start_time": "2024-02-21T11:44:34.131540",
     "status": "completed"
    },
    "tags": []
   },
   "outputs": [
    {
     "name": "stdout",
     "output_type": "stream",
     "text": [
      "Mutual Information Scores:\n",
      "MSSubClass            0.278166\n",
      "LotFrontage           0.221297\n",
      "LotArea               0.160524\n",
      "OverallQual           0.565510\n",
      "OverallCond           0.110764\n",
      "                        ...   \n",
      "Sold_RemodAdd_60.0    0.006135\n",
      "Sold_RemodAdd_7.0     0.016385\n",
      "Sold_RemodAdd_8.0     0.014503\n",
      "Sold_RemodAdd_9.0     0.006012\n",
      "Random_Column         0.000000\n",
      "Length: 534, dtype: float64\n"
     ]
    }
   ],
   "source": [
    "less_important_cols = add_random_column_and_select_features(train, target_col='SalePrice')"
   ]
  },
  {
   "cell_type": "code",
   "execution_count": 25,
   "id": "4776aae0",
   "metadata": {
    "execution": {
     "iopub.execute_input": "2024-02-21T11:44:40.461522Z",
     "iopub.status.busy": "2024-02-21T11:44:40.460852Z",
     "iopub.status.idle": "2024-02-21T11:44:40.471320Z",
     "shell.execute_reply": "2024-02-21T11:44:40.469928Z"
    },
    "papermill": {
     "duration": 0.03063,
     "end_time": "2024-02-21T11:44:40.474015",
     "exception": false,
     "start_time": "2024-02-21T11:44:40.443385",
     "status": "completed"
    },
    "tags": []
   },
   "outputs": [],
   "source": [
    "train = train.drop(columns = less_important_cols)\n",
    "test = test.drop(columns = less_important_cols)"
   ]
  },
  {
   "cell_type": "code",
   "execution_count": 26,
   "id": "5e49b36a",
   "metadata": {
    "execution": {
     "iopub.execute_input": "2024-02-21T11:44:40.508482Z",
     "iopub.status.busy": "2024-02-21T11:44:40.507981Z",
     "iopub.status.idle": "2024-02-21T11:44:40.513938Z",
     "shell.execute_reply": "2024-02-21T11:44:40.512452Z"
    },
    "papermill": {
     "duration": 0.026603,
     "end_time": "2024-02-21T11:44:40.516803",
     "exception": false,
     "start_time": "2024-02-21T11:44:40.490200",
     "status": "completed"
    },
    "tags": []
   },
   "outputs": [],
   "source": [
    "num_cols=list(train._get_numeric_data().columns)"
   ]
  },
  {
   "cell_type": "code",
   "execution_count": 27,
   "id": "bba8cb6a",
   "metadata": {
    "execution": {
     "iopub.execute_input": "2024-02-21T11:44:40.551558Z",
     "iopub.status.busy": "2024-02-21T11:44:40.551134Z",
     "iopub.status.idle": "2024-02-21T11:44:40.556780Z",
     "shell.execute_reply": "2024-02-21T11:44:40.555347Z"
    },
    "papermill": {
     "duration": 0.02596,
     "end_time": "2024-02-21T11:44:40.559262",
     "exception": false,
     "start_time": "2024-02-21T11:44:40.533302",
     "status": "completed"
    },
    "tags": []
   },
   "outputs": [],
   "source": [
    "num_cols.remove(\"SalePrice\")"
   ]
  },
  {
   "cell_type": "code",
   "execution_count": 28,
   "id": "f366786c",
   "metadata": {
    "execution": {
     "iopub.execute_input": "2024-02-21T11:44:40.594555Z",
     "iopub.status.busy": "2024-02-21T11:44:40.594143Z",
     "iopub.status.idle": "2024-02-21T11:44:40.603146Z",
     "shell.execute_reply": "2024-02-21T11:44:40.602080Z"
    },
    "papermill": {
     "duration": 0.028869,
     "end_time": "2024-02-21T11:44:40.605704",
     "exception": false,
     "start_time": "2024-02-21T11:44:40.576835",
     "status": "completed"
    },
    "tags": []
   },
   "outputs": [],
   "source": [
    "X = train.drop([\"SalePrice\"], axis=1)\n",
    "y = df[['SalePrice']]"
   ]
  },
  {
   "cell_type": "code",
   "execution_count": 29,
   "id": "85482b99",
   "metadata": {
    "execution": {
     "iopub.execute_input": "2024-02-21T11:44:40.641647Z",
     "iopub.status.busy": "2024-02-21T11:44:40.640558Z",
     "iopub.status.idle": "2024-02-21T11:44:40.767953Z",
     "shell.execute_reply": "2024-02-21T11:44:40.766665Z"
    },
    "papermill": {
     "duration": 0.148531,
     "end_time": "2024-02-21T11:44:40.770967",
     "exception": false,
     "start_time": "2024-02-21T11:44:40.622436",
     "status": "completed"
    },
    "tags": []
   },
   "outputs": [],
   "source": [
    "scaler = StandardScaler()\n",
    "\n",
    "scaler.fit(X[num_cols])\n",
    "\n",
    "X[num_cols]=scaler.transform(X[num_cols])"
   ]
  },
  {
   "cell_type": "code",
   "execution_count": 30,
   "id": "1e1c52ef",
   "metadata": {
    "execution": {
     "iopub.execute_input": "2024-02-21T11:44:40.804605Z",
     "iopub.status.busy": "2024-02-21T11:44:40.804168Z",
     "iopub.status.idle": "2024-02-21T11:44:44.678119Z",
     "shell.execute_reply": "2024-02-21T11:44:44.676207Z"
    },
    "papermill": {
     "duration": 3.898146,
     "end_time": "2024-02-21T11:44:44.684939",
     "exception": false,
     "start_time": "2024-02-21T11:44:40.786793",
     "status": "completed"
    },
    "tags": []
   },
   "outputs": [
    {
     "data": {
      "image/png": "[encoded data removed]",
      "text/plain": [
       "<Figure size 1800x1800 with 13 Axes>"
      ]
     },
     "metadata": {},
     "output_type": "display_data"
    }
   ],
   "source": [
    "sale_price = train['SalePrice'].values\n",
    "sale_price_log = np.log1p(sale_price)\n",
    "sale_price_boxcox, _ = stats.boxcox(sale_price + 1)\n",
    "\n",
    "plt.figure(figsize=(18, 18))\n",
    "\n",
    "# Original SalePrice Distribution\n",
    "plt.subplot(4, 4, 1)\n",
    "sns.distplot(sale_price, kde=True, hist=True)\n",
    "plt.title('Original SalePrice Distribution')\n",
    "\n",
    "# Log-transformed SalePrice Distribution\n",
    "plt.subplot(4, 4, 2)\n",
    "sns.distplot(sale_price_log, kde=True, hist=True)\n",
    "plt.title('Log-transformed SalePrice Distribution')\n",
    "\n",
    "# Box-Cox-transformed SalePrice Distribution\n",
    "plt.subplot(4, 4, 3)\n",
    "sns.distplot(sale_price_boxcox, kde=True, hist=True)\n",
    "plt.title('Box-Cox-transformed SalePrice Distribution')\n",
    "\n",
    "# Box Plot for Original SalePrice\n",
    "plt.subplot(4, 4, 4)\n",
    "sns.boxplot(y=sale_price)\n",
    "plt.title('Box Plot - Original SalePrice')\n",
    "\n",
    "# Box Plot for Log-transformed SalePrice\n",
    "plt.subplot(4, 4, 5)\n",
    "sns.boxplot(y=sale_price_log)\n",
    "plt.title('Box Plot - Log-transformed SalePrice')\n",
    "\n",
    "# Box Plot for Box-Cox-transformed SalePrice\n",
    "plt.subplot(4, 4, 6)\n",
    "sns.boxplot(y=sale_price_boxcox)\n",
    "plt.title('Box Plot - Box-Cox-transformed SalePrice')\n",
    "\n",
    "# Q-Q Plot for Log-transformed SalePrice\n",
    "plt.subplot(4, 4, 7)\n",
    "stats.probplot(sale_price_log, plot=plt)\n",
    "plt.title('Q-Q Plot - Log-transformed SalePrice')\n",
    "\n",
    "# Q-Q Plot for Box-Cox-transformed SalePrice\n",
    "plt.subplot(4, 4, 8)\n",
    "stats.probplot(sale_price_boxcox, plot=plt)\n",
    "plt.title('Q-Q Plot - Box-Cox-transformed SalePrice')\n",
    "\n",
    "# Probability Plot for Log-transformed SalePrice\n",
    "plt.subplot(4, 4, 9)\n",
    "stats.probplot(sale_price_log, dist='norm', plot=plt)\n",
    "plt.title('Probability Plot - Log-transformed SalePrice')\n",
    "\n",
    "# Probability Plot for Box-Cox-transformed SalePrice\n",
    "plt.subplot(4, 4, 10)\n",
    "stats.probplot(sale_price_boxcox, dist='norm', plot=plt)\n",
    "plt.title('Probability Plot - Box-Cox-transformed SalePrice')\n",
    "\n",
    "# CDF Plot for Original SalePrice\n",
    "plt.subplot(4, 4, 11)\n",
    "sns.ecdfplot(sale_price)\n",
    "plt.title('CDF Plot - Original SalePrice')\n",
    "\n",
    "# CDF Plot for Log-transformed SalePrice\n",
    "plt.subplot(4, 4, 12)\n",
    "sns.ecdfplot(sale_price_log)\n",
    "plt.title('CDF Plot - Log-transformed SalePrice')\n",
    "\n",
    "# CDF Plot for Box-Cox-transformed SalePrice\n",
    "plt.subplot(4, 4, 13)\n",
    "sns.ecdfplot(sale_price_boxcox)\n",
    "plt.title('CDF Plot - Box-Cox-transformed SalePrice')\n",
    "\n",
    "plt.tight_layout()\n",
    "plt.show()"
   ]
  },
  {
   "cell_type": "code",
   "execution_count": 31,
   "id": "6d90ced7",
   "metadata": {
    "execution": {
     "iopub.execute_input": "2024-02-21T11:44:44.731537Z",
     "iopub.status.busy": "2024-02-21T11:44:44.731140Z",
     "iopub.status.idle": "2024-02-21T11:44:44.736348Z",
     "shell.execute_reply": "2024-02-21T11:44:44.735310Z"
    },
    "papermill": {
     "duration": 0.029415,
     "end_time": "2024-02-21T11:44:44.739005",
     "exception": false,
     "start_time": "2024-02-21T11:44:44.709590",
     "status": "completed"
    },
    "tags": []
   },
   "outputs": [],
   "source": [
    "train['SalePrice'] = sale_price_log"
   ]
  },
  {
   "cell_type": "code",
   "execution_count": 32,
   "id": "f1f3b6fe",
   "metadata": {
    "execution": {
     "iopub.execute_input": "2024-02-21T11:44:44.781198Z",
     "iopub.status.busy": "2024-02-21T11:44:44.780802Z",
     "iopub.status.idle": "2024-02-21T11:44:44.792697Z",
     "shell.execute_reply": "2024-02-21T11:44:44.791277Z"
    },
    "papermill": {
     "duration": 0.036285,
     "end_time": "2024-02-21T11:44:44.795236",
     "exception": false,
     "start_time": "2024-02-21T11:44:44.758951",
     "status": "completed"
    },
    "tags": []
   },
   "outputs": [
    {
     "name": "stdout",
     "output_type": "stream",
     "text": [
      "Skewness coeff. is: 0.121347\n",
      "Kurtosis coeff. is: 0.809519\n"
     ]
    }
   ],
   "source": [
    "print(\"Skewness coeff. is: %f\" % train[train['SalePrice'].notnull()]['SalePrice'].skew())\n",
    "print(\"Kurtosis coeff. is: %f\" % train[train['SalePrice'].notnull()]['SalePrice'].kurt())"
   ]
  },
  {
   "cell_type": "code",
   "execution_count": 33,
   "id": "bb18bb42",
   "metadata": {
    "execution": {
     "iopub.execute_input": "2024-02-21T11:44:44.837078Z",
     "iopub.status.busy": "2024-02-21T11:44:44.836346Z",
     "iopub.status.idle": "2024-02-21T11:44:44.840791Z",
     "shell.execute_reply": "2024-02-21T11:44:44.839961Z"
    },
    "papermill": {
     "duration": 0.027842,
     "end_time": "2024-02-21T11:44:44.842924",
     "exception": false,
     "start_time": "2024-02-21T11:44:44.815082",
     "status": "completed"
    },
    "tags": []
   },
   "outputs": [],
   "source": [
    "y = sale_price_log"
   ]
  },
  {
   "cell_type": "code",
   "execution_count": 34,
   "id": "5c89fb74",
   "metadata": {
    "execution": {
     "iopub.execute_input": "2024-02-21T11:44:44.884773Z",
     "iopub.status.busy": "2024-02-21T11:44:44.884348Z",
     "iopub.status.idle": "2024-02-21T11:44:44.893882Z",
     "shell.execute_reply": "2024-02-21T11:44:44.892212Z"
    },
    "papermill": {
     "duration": 0.034124,
     "end_time": "2024-02-21T11:44:44.896812",
     "exception": false,
     "start_time": "2024-02-21T11:44:44.862688",
     "status": "completed"
    },
    "tags": []
   },
   "outputs": [],
   "source": [
    "def run_regression_models(X_train, y_train, X_test, y_test):\n",
    "    models = {\n",
    "        'Linear Regression': LinearRegression(),\n",
    "        'Lasso': Lasso(),\n",
    "        'Ridge': Ridge(),\n",
    "        'Decision Tree': DecisionTreeRegressor(),\n",
    "        'Random Forest': RandomForestRegressor(),\n",
    "        'Support Vector Regression': SVR()\n",
    "    }\n",
    "\n",
    "\n",
    "    for model_name, model in models.items():\n",
    "        print(f\"Training {model_name}...\")\n",
    "        model.fit(X_train, y_train)\n",
    "\n",
    "        y_pred = model.predict(X_test)\n",
    "\n",
    "        mse = mean_squared_error(y_test, y_pred)\n",
    "        print(f\"{model_name} Root Mean Squared Error: {math.sqrt(mse)}\")\n",
    "\n",
    "        cv_scores = cross_val_score(model, X_train, y_train, cv=5, scoring='neg_mean_squared_error')\n",
    "        print(f\"{model_name} Cross-Validation Root Mean Squared Error: {math.sqrt(np.mean(-cv_scores))}\")\n",
    "\n",
    "        print(\"=\"*40)"
   ]
  },
  {
   "cell_type": "code",
   "execution_count": 35,
   "id": "f0f8c14a",
   "metadata": {
    "execution": {
     "iopub.execute_input": "2024-02-21T11:44:45.002543Z",
     "iopub.status.busy": "2024-02-21T11:44:45.002084Z",
     "iopub.status.idle": "2024-02-21T11:44:45.039261Z",
     "shell.execute_reply": "2024-02-21T11:44:45.037914Z"
    },
    "papermill": {
     "duration": 0.062307,
     "end_time": "2024-02-21T11:44:45.042259",
     "exception": false,
     "start_time": "2024-02-21T11:44:44.979952",
     "status": "completed"
    },
    "tags": []
   },
   "outputs": [],
   "source": [
    "X_train, X_test, y_train, y_test = train_test_split(X, y, random_state=42, test_size=0.2)"
   ]
  },
  {
   "cell_type": "code",
   "execution_count": 36,
   "id": "3eb730b6",
   "metadata": {
    "execution": {
     "iopub.execute_input": "2024-02-21T11:44:45.086438Z",
     "iopub.status.busy": "2024-02-21T11:44:45.086011Z",
     "iopub.status.idle": "2024-02-21T11:45:12.582177Z",
     "shell.execute_reply": "2024-02-21T11:45:12.580802Z"
    },
    "papermill": {
     "duration": 27.521453,
     "end_time": "2024-02-21T11:45:12.585055",
     "exception": false,
     "start_time": "2024-02-21T11:44:45.063602",
     "status": "completed"
    },
    "tags": []
   },
   "outputs": [
    {
     "name": "stdout",
     "output_type": "stream",
     "text": [
      "Training Linear Regression...\n",
      "Linear Regression Root Mean Squared Error: 373984503527.7098\n",
      "Linear Regression Cross-Validation Root Mean Squared Error: 36813862457.65313\n",
      "========================================\n",
      "Training Lasso...\n",
      "Lasso Root Mean Squared Error: 0.43324391618066094\n",
      "Lasso Cross-Validation Root Mean Squared Error: 0.390941443386101\n",
      "========================================\n",
      "Training Ridge...\n",
      "Ridge Root Mean Squared Error: 0.2013645654425653\n",
      "Ridge Cross-Validation Root Mean Squared Error: 0.22373661525181093\n",
      "========================================\n",
      "Training Decision Tree...\n",
      "Decision Tree Root Mean Squared Error: 0.18401439792980423\n",
      "Decision Tree Cross-Validation Root Mean Squared Error: 0.20870945416207834\n",
      "========================================\n",
      "Training Random Forest...\n",
      "Random Forest Root Mean Squared Error: 0.1481104691107285\n",
      "Random Forest Cross-Validation Root Mean Squared Error: 0.1476484540259051\n",
      "========================================\n",
      "Training Support Vector Regression...\n",
      "Support Vector Regression Root Mean Squared Error: 0.2081294868058546\n",
      "Support Vector Regression Cross-Validation Root Mean Squared Error: 0.18826632996866252\n",
      "========================================\n"
     ]
    }
   ],
   "source": [
    "run_regression_models(X_train, y_train, X_test, y_test)"
   ]
  },
  {
   "cell_type": "code",
   "execution_count": 37,
   "id": "b4611ab8",
   "metadata": {
    "execution": {
     "iopub.execute_input": "2024-02-21T11:45:12.633076Z",
     "iopub.status.busy": "2024-02-21T11:45:12.632624Z",
     "iopub.status.idle": "2024-02-21T11:45:12.639310Z",
     "shell.execute_reply": "2024-02-21T11:45:12.638112Z"
    },
    "papermill": {
     "duration": 0.034702,
     "end_time": "2024-02-21T11:45:12.642013",
     "exception": false,
     "start_time": "2024-02-21T11:45:12.607311",
     "status": "completed"
    },
    "tags": []
   },
   "outputs": [],
   "source": [
    "def submission(test_id, predict):\n",
    "    res=pd.DataFrame()\n",
    "    res['SalePrice']=np.around(predict, 2)\n",
    "    res['Id']=test_id\n",
    "    return res[['Id', 'SalePrice']]"
   ]
  },
  {
   "cell_type": "code",
   "execution_count": 38,
   "id": "f26e3ed1",
   "metadata": {
    "execution": {
     "iopub.execute_input": "2024-02-21T11:45:12.687266Z",
     "iopub.status.busy": "2024-02-21T11:45:12.686810Z",
     "iopub.status.idle": "2024-02-21T11:45:18.246747Z",
     "shell.execute_reply": "2024-02-21T11:45:18.245770Z"
    },
    "papermill": {
     "duration": 5.585268,
     "end_time": "2024-02-21T11:45:18.249063",
     "exception": false,
     "start_time": "2024-02-21T11:45:12.663795",
     "status": "completed"
    },
    "tags": []
   },
   "outputs": [
    {
     "data": {
      "text/html": [
       "<style>#sk-container-id-1 {color: black;background-color: white;}#sk-container-id-1 pre{padding: 0;}#sk-container-id-1 div.sk-toggleable {background-color: white;}#sk-container-id-1 label.sk-toggleable__label {cursor: pointer;display: block;width: 100%;margin-bottom: 0;padding: 0.3em;box-sizing: border-box;text-align: center;}#sk-container-id-1 label.sk-toggleable__label-arrow:before {content: \"▸\";float: left;margin-right: 0.25em;color: #696969;}#sk-container-id-1 label.sk-toggleable__label-arrow:hover:before {color: black;}#sk-container-id-1 div.sk-estimator:hover label.sk-toggleable__label-arrow:before {color: black;}#sk-container-id-1 div.sk-toggleable__content {max-height: 0;max-width: 0;overflow: hidden;text-align: left;background-color: #f0f8ff;}#sk-container-id-1 div.sk-toggleable__content pre {margin: 0.2em;color: black;border-radius: 0.25em;background-color: #f0f8ff;}#sk-container-id-1 input.sk-toggleable__control:checked~div.sk-toggleable__content {max-height: 200px;max-width: 100%;overflow: auto;}#sk-container-id-1 input.sk-toggleable__control:checked~label.sk-toggleable__label-arrow:before {content: \"▾\";}#sk-container-id-1 div.sk-estimator input.sk-toggleable__control:checked~label.sk-toggleable__label {background-color: #d4ebff;}#sk-container-id-1 div.sk-label input.sk-toggleable__control:checked~label.sk-toggleable__label {background-color: #d4ebff;}#sk-container-id-1 input.sk-hidden--visually {border: 0;clip: rect(1px 1px 1px 1px);clip: rect(1px, 1px, 1px, 1px);height: 1px;margin: -1px;overflow: hidden;padding: 0;position: absolute;width: 1px;}#sk-container-id-1 div.sk-estimator {font-family: monospace;background-color: #f0f8ff;border: 1px dotted black;border-radius: 0.25em;box-sizing: border-box;margin-bottom: 0.5em;}#sk-container-id-1 div.sk-estimator:hover {background-color: #d4ebff;}#sk-container-id-1 div.sk-parallel-item::after {content: \"\";width: 100%;border-bottom: 1px solid gray;flex-grow: 1;}#sk-container-id-1 div.sk-label:hover label.sk-toggleable__label {background-color: #d4ebff;}#sk-container-id-1 div.sk-serial::before {content: \"\";position: absolute;border-left: 1px solid gray;box-sizing: border-box;top: 0;bottom: 0;left: 50%;z-index: 0;}#sk-container-id-1 div.sk-serial {display: flex;flex-direction: column;align-items: center;background-color: white;padding-right: 0.2em;padding-left: 0.2em;position: relative;}#sk-container-id-1 div.sk-item {position: relative;z-index: 1;}#sk-container-id-1 div.sk-parallel {display: flex;align-items: stretch;justify-content: center;background-color: white;position: relative;}#sk-container-id-1 div.sk-item::before, #sk-container-id-1 div.sk-parallel-item::before {content: \"\";position: absolute;border-left: 1px solid gray;box-sizing: border-box;top: 0;bottom: 0;left: 50%;z-index: -1;}#sk-container-id-1 div.sk-parallel-item {display: flex;flex-direction: column;z-index: 1;position: relative;background-color: white;}#sk-container-id-1 div.sk-parallel-item:first-child::after {align-self: flex-end;width: 50%;}#sk-container-id-1 div.sk-parallel-item:last-child::after {align-self: flex-start;width: 50%;}#sk-container-id-1 div.sk-parallel-item:only-child::after {width: 0;}#sk-container-id-1 div.sk-dashed-wrapped {border: 1px dashed gray;margin: 0 0.4em 0.5em 0.4em;box-sizing: border-box;padding-bottom: 0.4em;background-color: white;}#sk-container-id-1 div.sk-label label {font-family: monospace;font-weight: bold;display: inline-block;line-height: 1.2em;}#sk-container-id-1 div.sk-label-container {text-align: center;}#sk-container-id-1 div.sk-container {/* jupyter's `normalize.less` sets `[hidden] { display: none; }` but bootstrap.min.css set `[hidden] { display: none !important; }` so we also need the `!important` here to be able to override the default hidden behavior on the sphinx rendered scikit-learn.org. See: https://github.com/scikit-learn/scikit-learn/issues/21755 */display: inline-block !important;position: relative;}#sk-container-id-1 div.sk-text-repr-fallback {display: none;}</style><div id=\"sk-container-id-1\" class=\"sk-top-container\"><div class=\"sk-text-repr-fallback\"><pre>RandomForestRegressor()</pre><b>In a Jupyter environment, please rerun this cell to show the HTML representation or trust the notebook. <br />On GitHub, the HTML representation is unable to render, please try loading this page with nbviewer.org.</b></div><div class=\"sk-container\" hidden><div class=\"sk-item\"><div class=\"sk-estimator sk-toggleable\"><input class=\"sk-toggleable__control sk-hidden--visually\" id=\"sk-estimator-id-1\" type=\"checkbox\" checked><label for=\"sk-estimator-id-1\" class=\"sk-toggleable__label sk-toggleable__label-arrow\">RandomForestRegressor</label><div class=\"sk-toggleable__content\"><pre>RandomForestRegressor()</pre></div></div></div></div></div>"
      ],
      "text/plain": [
       "RandomForestRegressor()"
      ]
     },
     "execution_count": 38,
     "metadata": {},
     "output_type": "execute_result"
    }
   ],
   "source": [
    "model= RandomForestRegressor()\n",
    "model.fit(X, y)"
   ]
  },
  {
   "cell_type": "code",
   "execution_count": 39,
   "id": "7d041ba0",
   "metadata": {
    "execution": {
     "iopub.execute_input": "2024-02-21T11:45:18.297289Z",
     "iopub.status.busy": "2024-02-21T11:45:18.296892Z",
     "iopub.status.idle": "2024-02-21T11:45:18.335065Z",
     "shell.execute_reply": "2024-02-21T11:45:18.333842Z"
    },
    "papermill": {
     "duration": 0.065854,
     "end_time": "2024-02-21T11:45:18.337834",
     "exception": false,
     "start_time": "2024-02-21T11:45:18.271980",
     "status": "completed"
    },
    "tags": []
   },
   "outputs": [],
   "source": [
    "pre=model.predict(test)\n",
    "res=submission(test_id, pre)\n",
    "res['SalePrice']=np.exp(res['SalePrice'])\n",
    "res.to_csv('submission.csv', index=False)"
   ]
  },
  {
   "cell_type": "markdown",
   "id": "cda1bf40",
   "metadata": {
    "papermill": {
     "duration": 0.021977,
     "end_time": "2024-02-21T11:45:18.381347",
     "exception": false,
     "start_time": "2024-02-21T11:45:18.359370",
     "status": "completed"
    },
    "tags": []
   },
   "source": [
    "<a href=\"submission.csv\"> Download File </a>"
   ]
  },
  {
   "cell_type": "code",
   "execution_count": null,
   "id": "629d6d05",
   "metadata": {
    "papermill": {
     "duration": 0.021511,
     "end_time": "2024-02-21T11:45:18.425175",
     "exception": false,
     "start_time": "2024-02-21T11:45:18.403664",
     "status": "completed"
    },
    "tags": []
   },
   "outputs": [],
   "source": []
  }
 ],
 "metadata": {
  "kaggle": {
   "accelerator": "none",
   "dataSources": [
    {
     "databundleVersionId": 868283,
     "sourceId": 5407,
     "sourceType": "competition"
    }
   ],
   "dockerImageVersionId": 30646,
   "isGpuEnabled": false,
   "isInternetEnabled": true,
   "language": "python",
   "sourceType": "notebook"
  },
  "kernelspec": {
   "display_name": "Python 3",
   "language": "python",
   "name": "python3"
  },
  "language_info": {
   "codemirror_mode": {
    "name": "ipython",
    "version": 3
   },
   "file_extension": ".py",
   "mimetype": "text/x-python",
   "name": "python",
   "nbconvert_exporter": "python",
   "pygments_lexer": "ipython3",
   "version": "3.10.13"
  },
  "papermill": {
   "default_parameters": {},
   "duration": 53.457231,
   "end_time": "2024-02-21T11:45:19.169350",
   "environment_variables": {},
   "exception": null,
   "input_path": "__notebook__.ipynb",
   "output_path": "__notebook__.ipynb",
   "parameters": {},
   "start_time": "2024-02-21T11:44:25.712119",
   "version": "2.5.0"
  }
 },
 "nbformat": 4,
 "nbformat_minor": 5
}
