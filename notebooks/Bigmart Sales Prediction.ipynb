{
 "cells": [
  {
   "cell_type": "markdown",
   "metadata": {
    "deepnote_app_block_visible": true,
    "cell_id": "40ec8749651746d2af7b6efe32a7e797",
    "deepnote_cell_type": "markdown"
   },
   "source": [
    "# BigMart Sales Prediction Project\n",
    "\n",
    "## Overview\n",
    "\n",
    "Welcome to the BigMart Sales Prediction project! In this analysis, we aim to predict the sales of various products at BigMart outlets using the Kaggle BigMart dataset. The dataset provides information on product attributes, store details, and historical sales data.\n",
    "\n",
    "\n",
    "## Objective\n",
    "\n",
    "The main objective of this project is to build a predictive model that can accurately forecast the sales of different products at BigMart outlets. By leveraging machine learning algorithms, we seek to understand the factors that influence product sales and create a model capable of making accurate predictions."
   ],
   "block_group": "dfe894a7ad014d168d40f344c277671f"
  },
  {
   "cell_type": "code",
   "metadata": {
    "source_hash": "8ff35b29",
    "execution_start": 1710149814634,
    "execution_millis": 165,
    "deepnote_to_be_reexecuted": false,
    "deepnote_app_block_visible": true,
    "cell_id": "87af18fa4a574f5fb9bec2845daa8fec",
    "deepnote_cell_type": "code"
   },
   "source": [
    "import numpy as np\n",
    "import pandas as pd\n",
    "import seaborn as sns\n",
    "import matplotlib.pyplot as plt\n",
    "from sklearn.preprocessing import LabelEncoder\n",
    "from sklearn.model_selection import train_test_split, cross_val_score, RandomizedSearchCV\n",
    "from sklearn.metrics import mean_squared_error, r2_score\n",
    "from sklearn.linear_model import LinearRegression, Ridge, Lasso\n",
    "from sklearn.tree import DecisionTreeRegressor\n",
    "from sklearn.ensemble import RandomForestRegressor, ExtraTreesRegressor\n",
    "from xgboost import XGBRegressor\n",
    "from scipy.stats import uniform, randint\n",
    "from scipy.stats import boxcox\n",
    "from datetime import datetime"
   ],
   "block_group": "78010550a797464f92390af4ceeb9b75",
   "execution_count": 3,
   "outputs": [],
   "outputs_reference": null
  },
  {
   "cell_type": "code",
   "metadata": {
    "source_hash": "4fc12299",
    "execution_start": 1710149814635,
    "execution_millis": 164,
    "deepnote_to_be_reexecuted": false,
    "deepnote_app_block_visible": true,
    "cell_id": "f6e88c465928436ca11bab01ecab3438",
    "deepnote_cell_type": "code"
   },
   "source": [
    "import warnings\n",
    "\n",
    "warnings.filterwarnings(\"ignore\")"
   ],
   "block_group": "b62c37244e4c4d7987e4761810fdf074",
   "execution_count": 4,
   "outputs": [],
   "outputs_reference": null
  },
  {
   "cell_type": "code",
   "metadata": {
    "source_hash": "736fd4b4",
    "execution_start": 1710149814925,
    "execution_millis": 202,
    "deepnote_to_be_reexecuted": false,
    "deepnote_app_block_visible": true,
    "cell_id": "00a617a4dd3b43968b7340df79dc6a66",
    "deepnote_cell_type": "code"
   },
   "source": [
    "df = pd.read_csv('Train.csv')"
   ],
   "block_group": "1bede65e50d047938eb06eaf8d954654",
   "execution_count": 5,
   "outputs": [],
   "outputs_reference": null
  },
  {
   "cell_type": "code",
   "metadata": {
    "source_hash": "c085b6ba",
    "execution_start": 1710149815439,
    "execution_millis": 265,
    "deepnote_to_be_reexecuted": false,
    "deepnote_app_block_visible": true,
    "cell_id": "2551032d43a0432c985b323bd9871769",
    "deepnote_cell_type": "code"
   },
   "source": [
    "df.head()"
   ],
   "block_group": "476b27fc35c44809a9ea709fe138ab74",
   "execution_count": 6,
   "outputs": [
    {
     "output_type": "execute_result",
     "execution_count": 6,
     "data": {
      "application/vnd.deepnote.dataframe.v3+json": {
       "column_count": 12,
       "row_count": 5,
       "columns": [
        {
         "name": "Item_Identifier",
         "dtype": "object",
         "stats": {
          "unique_count": 5,
          "nan_count": 0,
          "categories": [
           {
            "name": "FDA15",
            "count": 1
           },
           {
            "name": "DRC01",
            "count": 1
           },
           {
            "name": "3 others",
            "count": 3
           }
          ]
         }
        },
        {
         "name": "Item_Weight",
         "dtype": "float64",
         "stats": {
          "unique_count": 5,
          "nan_count": 0,
          "min": "5.92",
          "max": "19.2",
          "histogram": [
           {
            "bin_start": 5.92,
            "bin_end": 7.247999999999999,
            "count": 1
           },
           {
            "bin_start": 7.247999999999999,
            "bin_end": 8.576,
            "count": 0
           },
           {
            "bin_start": 8.576,
            "bin_end": 9.904,
            "count": 2
           },
           {
            "bin_start": 9.904,
            "bin_end": 11.232,
            "count": 0
           },
           {
            "bin_start": 11.232,
            "bin_end": 12.559999999999999,
            "count": 0
           },
           {
            "bin_start": 12.559999999999999,
            "bin_end": 13.887999999999998,
            "count": 0
           },
           {
            "bin_start": 13.887999999999998,
            "bin_end": 15.216,
            "count": 0
           },
           {
            "bin_start": 15.216,
            "bin_end": 16.543999999999997,
            "count": 0
           },
           {
            "bin_start": 16.543999999999997,
            "bin_end": 17.872,
            "count": 1
           },
           {
            "bin_start": 17.872,
            "bin_end": 19.2,
            "count": 1
           }
          ]
         }
        },
        {
         "name": "Item_Fat_Content",
         "dtype": "object",
         "stats": {
          "unique_count": 2,
          "nan_count": 0,
          "categories": [
           {
            "name": "Low Fat",
            "count": 3
           },
           {
            "name": "Regular",
            "count": 2
           }
          ]
         }
        },
        {
         "name": "Item_Visibility",
         "dtype": "float64",
         "stats": {
          "unique_count": 4,
          "nan_count": 0,
          "min": "0.0",
          "max": "0.019278216",
          "histogram": [
           {
            "bin_start": 0,
            "bin_end": 0.0019278216000000001,
            "count": 2
           },
           {
            "bin_start": 0.0019278216000000001,
            "bin_end": 0.0038556432000000002,
            "count": 0
           },
           {
            "bin_start": 0.0038556432000000002,
            "bin_end": 0.005783464800000001,
            "count": 0
           },
           {
            "bin_start": 0.005783464800000001,
            "bin_end": 0.0077112864000000005,
            "count": 0
           },
           {
            "bin_start": 0.0077112864000000005,
            "bin_end": 0.009639108,
            "count": 0
           },
           {
            "bin_start": 0.009639108,
            "bin_end": 0.011566929600000001,
            "count": 0
           },
           {
            "bin_start": 0.011566929600000001,
            "bin_end": 0.0134947512,
            "count": 0
           },
           {
            "bin_start": 0.0134947512,
            "bin_end": 0.015422572800000001,
            "count": 0
           },
           {
            "bin_start": 0.015422572800000001,
            "bin_end": 0.0173503944,
            "count": 2
           },
           {
            "bin_start": 0.0173503944,
            "bin_end": 0.019278216,
            "count": 1
           }
          ]
         }
        },
        {
         "name": "Item_Type",
         "dtype": "object",
         "stats": {
          "unique_count": 5,
          "nan_count": 0,
          "categories": [
           {
            "name": "Dairy",
            "count": 1
           },
           {
            "name": "Soft Drinks",
            "count": 1
           },
           {
            "name": "3 others",
            "count": 3
           }
          ]
         }
        },
        {
         "name": "Item_MRP",
         "dtype": "float64",
         "stats": {
          "unique_count": 5,
          "nan_count": 0,
          "min": "48.2692",
          "max": "249.8092",
          "histogram": [
           {
            "bin_start": 48.2692,
            "bin_end": 68.42320000000001,
            "count": 2
           },
           {
            "bin_start": 68.42320000000001,
            "bin_end": 88.5772,
            "count": 0
           },
           {
            "bin_start": 88.5772,
            "bin_end": 108.7312,
            "count": 0
           },
           {
            "bin_start": 108.7312,
            "bin_end": 128.8852,
            "count": 0
           },
           {
            "bin_start": 128.8852,
            "bin_end": 149.0392,
            "count": 1
           },
           {
            "bin_start": 149.0392,
            "bin_end": 169.19320000000002,
            "count": 0
           },
           {
            "bin_start": 169.19320000000002,
            "bin_end": 189.34720000000004,
            "count": 1
           },
           {
            "bin_start": 189.34720000000004,
            "bin_end": 209.50120000000004,
            "count": 0
           },
           {
            "bin_start": 209.50120000000004,
            "bin_end": 229.65520000000004,
            "count": 0
           },
           {
            "bin_start": 229.65520000000004,
            "bin_end": 249.8092,
            "count": 1
           }
          ]
         }
        },
        {
         "name": "Outlet_Identifier",
         "dtype": "object",
         "stats": {
          "unique_count": 4,
          "nan_count": 0,
          "categories": [
           {
            "name": "OUT049",
            "count": 2
           },
           {
            "name": "OUT018",
            "count": 1
           },
           {
            "name": "2 others",
            "count": 2
           }
          ]
         }
        },
        {
         "name": "Outlet_Establishment_Year",
         "dtype": "int64",
         "stats": {
          "unique_count": 4,
          "nan_count": 0,
          "min": "1987",
          "max": "2009",
          "histogram": [
           {
            "bin_start": 1987,
            "bin_end": 1989.2,
            "count": 1
           },
           {
            "bin_start": 1989.2,
            "bin_end": 1991.4,
            "count": 0
           },
           {
            "bin_start": 1991.4,
            "bin_end": 1993.6,
            "count": 0
           },
           {
            "bin_start": 1993.6,
            "bin_end": 1995.8,
            "count": 0
           },
           {
            "bin_start": 1995.8,
            "bin_end": 1998,
            "count": 0
           },
           {
            "bin_start": 1998,
            "bin_end": 2000.2,
            "count": 3
           },
           {
            "bin_start": 2000.2,
            "bin_end": 2002.4,
            "count": 0
           },
           {
            "bin_start": 2002.4,
            "bin_end": 2004.6,
            "count": 0
           },
           {
            "bin_start": 2004.6,
            "bin_end": 2006.8,
            "count": 0
           },
           {
            "bin_start": 2006.8,
            "bin_end": 2009,
            "count": 1
           }
          ]
         }
        },
        {
         "name": "Outlet_Size",
         "dtype": "object",
         "stats": {
          "unique_count": 2,
          "nan_count": 1,
          "categories": [
           {
            "name": "Medium",
            "count": 3
           },
           {
            "name": "High",
            "count": 1
           },
           {
            "name": "Missing",
            "count": 1
           }
          ]
         }
        },
        {
         "name": "Outlet_Location_Type",
         "dtype": "object",
         "stats": {
          "unique_count": 2,
          "nan_count": 0,
          "categories": [
           {
            "name": "Tier 3",
            "count": 3
           },
           {
            "name": "Tier 1",
            "count": 2
           }
          ]
         }
        },
        {
         "name": "Outlet_Type",
         "dtype": "object",
         "stats": {
          "unique_count": 3,
          "nan_count": 0,
          "categories": [
           {
            "name": "Supermarket Type1",
            "count": 3
           },
           {
            "name": "Supermarket Type2",
            "count": 1
           },
           {
            "name": "Grocery Store",
            "count": 1
           }
          ]
         }
        },
        {
         "name": "Item_Outlet_Sales",
         "dtype": "float64",
         "stats": {
          "unique_count": 5,
          "nan_count": 0,
          "min": "443.4228",
          "max": "3735.138",
          "histogram": [
           {
            "bin_start": 443.4228,
            "bin_end": 772.5943199999999,
            "count": 2
           },
           {
            "bin_start": 772.5943199999999,
            "bin_end": 1101.76584,
            "count": 1
           },
           {
            "bin_start": 1101.76584,
            "bin_end": 1430.93736,
            "count": 0
           },
           {
            "bin_start": 1430.93736,
            "bin_end": 1760.10888,
            "count": 0
           },
           {
            "bin_start": 1760.10888,
            "bin_end": 2089.2803999999996,
            "count": 0
           },
           {
            "bin_start": 2089.2803999999996,
            "bin_end": 2418.45192,
            "count": 1
           },
           {
            "bin_start": 2418.45192,
            "bin_end": 2747.62344,
            "count": 0
           },
           {
            "bin_start": 2747.62344,
            "bin_end": 3076.7949599999997,
            "count": 0
           },
           {
            "bin_start": 3076.7949599999997,
            "bin_end": 3405.9664799999996,
            "count": 0
           },
           {
            "bin_start": 3405.9664799999996,
            "bin_end": 3735.138,
            "count": 1
           }
          ]
         }
        },
        {
         "name": "_deepnote_index_column",
         "dtype": "int64"
        }
       ],
       "rows": [
        {
         "Item_Identifier": "FDA15",
         "Item_Weight": 9.3,
         "Item_Fat_Content": "Low Fat",
         "Item_Visibility": 0.016047301,
         "Item_Type": "Dairy",
         "Item_MRP": 249.8092,
         "Outlet_Identifier": "OUT049",
         "Outlet_Establishment_Year": 1999,
         "Outlet_Size": "Medium",
         "Outlet_Location_Type": "Tier 1",
         "Outlet_Type": "Supermarket Type1",
         "Item_Outlet_Sales": 3735.138,
         "_deepnote_index_column": 0
        },
        {
         "Item_Identifier": "DRC01",
         "Item_Weight": 5.92,
         "Item_Fat_Content": "Regular",
         "Item_Visibility": 0.019278216,
         "Item_Type": "Soft Drinks",
         "Item_MRP": 48.2692,
         "Outlet_Identifier": "OUT018",
         "Outlet_Establishment_Year": 2009,
         "Outlet_Size": "Medium",
         "Outlet_Location_Type": "Tier 3",
         "Outlet_Type": "Supermarket Type2",
         "Item_Outlet_Sales": 443.4228,
         "_deepnote_index_column": 1
        },
        {
         "Item_Identifier": "FDN15",
         "Item_Weight": 17.5,
         "Item_Fat_Content": "Low Fat",
         "Item_Visibility": 0.016760075,
         "Item_Type": "Meat",
         "Item_MRP": 141.618,
         "Outlet_Identifier": "OUT049",
         "Outlet_Establishment_Year": 1999,
         "Outlet_Size": "Medium",
         "Outlet_Location_Type": "Tier 1",
         "Outlet_Type": "Supermarket Type1",
         "Item_Outlet_Sales": 2097.27,
         "_deepnote_index_column": 2
        },
        {
         "Item_Identifier": "FDX07",
         "Item_Weight": 19.2,
         "Item_Fat_Content": "Regular",
         "Item_Visibility": 0,
         "Item_Type": "Fruits and Vegetables",
         "Item_MRP": 182.095,
         "Outlet_Identifier": "OUT010",
         "Outlet_Establishment_Year": 1998,
         "Outlet_Size": "nan",
         "Outlet_Location_Type": "Tier 3",
         "Outlet_Type": "Grocery Store",
         "Item_Outlet_Sales": 732.38,
         "_deepnote_index_column": 3
        },
        {
         "Item_Identifier": "NCD19",
         "Item_Weight": 8.93,
         "Item_Fat_Content": "Low Fat",
         "Item_Visibility": 0,
         "Item_Type": "Household",
         "Item_MRP": 53.8614,
         "Outlet_Identifier": "OUT013",
         "Outlet_Establishment_Year": 1987,
         "Outlet_Size": "High",
         "Outlet_Location_Type": "Tier 3",
         "Outlet_Type": "Supermarket Type1",
         "Item_Outlet_Sales": 994.7052,
         "_deepnote_index_column": 4
        }
       ]
      },
      "text/plain": "  Item_Identifier  Item_Weight Item_Fat_Content  Item_Visibility  \\\n0           FDA15         9.30          Low Fat         0.016047   \n1           DRC01         5.92          Regular         0.019278   \n2           FDN15        17.50          Low Fat         0.016760   \n3           FDX07        19.20          Regular         0.000000   \n4           NCD19         8.93          Low Fat         0.000000   \n\n               Item_Type  Item_MRP Outlet_Identifier  \\\n0                  Dairy  249.8092            OUT049   \n1            Soft Drinks   48.2692            OUT018   \n2                   Meat  141.6180            OUT049   \n3  Fruits and Vegetables  182.0950            OUT010   \n4              Household   53.8614            OUT013   \n\n   Outlet_Establishment_Year Outlet_Size Outlet_Location_Type  \\\n0                       1999      Medium               Tier 1   \n1                       2009      Medium               Tier 3   \n2                       1999      Medium               Tier 1   \n3                       1998         NaN               Tier 3   \n4                       1987        High               Tier 3   \n\n         Outlet_Type  Item_Outlet_Sales  \n0  Supermarket Type1          3735.1380  \n1  Supermarket Type2           443.4228  \n2  Supermarket Type1          2097.2700  \n3      Grocery Store           732.3800  \n4  Supermarket Type1           994.7052  ",
      "text/html": "<div>\n<style scoped>\n    .dataframe tbody tr th:only-of-type {\n        vertical-align: middle;\n    }\n\n    .dataframe tbody tr th {\n        vertical-align: top;\n    }\n\n    .dataframe thead th {\n        text-align: right;\n    }\n</style>\n<table border=\"1\" class=\"dataframe\">\n  <thead>\n    <tr style=\"text-align: right;\">\n      <th></th>\n      <th>Item_Identifier</th>\n      <th>Item_Weight</th>\n      <th>Item_Fat_Content</th>\n      <th>Item_Visibility</th>\n      <th>Item_Type</th>\n      <th>Item_MRP</th>\n      <th>Outlet_Identifier</th>\n      <th>Outlet_Establishment_Year</th>\n      <th>Outlet_Size</th>\n      <th>Outlet_Location_Type</th>\n      <th>Outlet_Type</th>\n      <th>Item_Outlet_Sales</th>\n    </tr>\n  </thead>\n  <tbody>\n    <tr>\n      <th>0</th>\n      <td>FDA15</td>\n      <td>9.30</td>\n      <td>Low Fat</td>\n      <td>0.016047</td>\n      <td>Dairy</td>\n      <td>249.8092</td>\n      <td>OUT049</td>\n      <td>1999</td>\n      <td>Medium</td>\n      <td>Tier 1</td>\n      <td>Supermarket Type1</td>\n      <td>3735.1380</td>\n    </tr>\n    <tr>\n      <th>1</th>\n      <td>DRC01</td>\n      <td>5.92</td>\n      <td>Regular</td>\n      <td>0.019278</td>\n      <td>Soft Drinks</td>\n      <td>48.2692</td>\n      <td>OUT018</td>\n      <td>2009</td>\n      <td>Medium</td>\n      <td>Tier 3</td>\n      <td>Supermarket Type2</td>\n      <td>443.4228</td>\n    </tr>\n    <tr>\n      <th>2</th>\n      <td>FDN15</td>\n      <td>17.50</td>\n      <td>Low Fat</td>\n      <td>0.016760</td>\n      <td>Meat</td>\n      <td>141.6180</td>\n      <td>OUT049</td>\n      <td>1999</td>\n      <td>Medium</td>\n      <td>Tier 1</td>\n      <td>Supermarket Type1</td>\n      <td>2097.2700</td>\n    </tr>\n    <tr>\n      <th>3</th>\n      <td>FDX07</td>\n      <td>19.20</td>\n      <td>Regular</td>\n      <td>0.000000</td>\n      <td>Fruits and Vegetables</td>\n      <td>182.0950</td>\n      <td>OUT010</td>\n      <td>1998</td>\n      <td>NaN</td>\n      <td>Tier 3</td>\n      <td>Grocery Store</td>\n      <td>732.3800</td>\n    </tr>\n    <tr>\n      <th>4</th>\n      <td>NCD19</td>\n      <td>8.93</td>\n      <td>Low Fat</td>\n      <td>0.000000</td>\n      <td>Household</td>\n      <td>53.8614</td>\n      <td>OUT013</td>\n      <td>1987</td>\n      <td>High</td>\n      <td>Tier 3</td>\n      <td>Supermarket Type1</td>\n      <td>994.7052</td>\n    </tr>\n  </tbody>\n</table>\n</div>"
     },
     "metadata": {}
    }
   ],
   "outputs_reference": "s3:deepnote-cell-outputs-production/18c9e38e-e507-4ad9-9732-9b482c102d92"
  },
  {
   "cell_type": "code",
   "metadata": {
    "source_hash": "14f60b8f",
    "execution_start": 1710149816177,
    "execution_millis": 234,
    "deepnote_to_be_reexecuted": false,
    "deepnote_app_block_visible": true,
    "cell_id": "9d236b3b00284f6bafc89a1d30ff0e37",
    "deepnote_cell_type": "code"
   },
   "source": [
    "df.shape"
   ],
   "block_group": "91b5903685c44172b5b77bf5d444aee1",
   "execution_count": 7,
   "outputs": [
    {
     "output_type": "execute_result",
     "execution_count": 7,
     "data": {
      "text/plain": "(8523, 12)"
     },
     "metadata": {}
    }
   ],
   "outputs_reference": "dbtable:cell_outputs/9c81081f-c82a-46d6-9202-7a98880d4f89"
  },
  {
   "cell_type": "code",
   "metadata": {
    "source_hash": "de1e323c",
    "execution_start": 1710149816921,
    "execution_millis": 337,
    "deepnote_to_be_reexecuted": false,
    "deepnote_app_block_visible": true,
    "cell_id": "c7a9a755b0a34e36abb2e8f41a0ed0dc",
    "deepnote_cell_type": "code"
   },
   "source": [
    "df.info()"
   ],
   "block_group": "f61d4ef7d50d4257beb91aa6f24b1828",
   "execution_count": 8,
   "outputs": [
    {
     "name": "stdout",
     "text": "<class 'pandas.core.frame.DataFrame'>\nRangeIndex: 8523 entries, 0 to 8522\nData columns (total 12 columns):\n #   Column                     Non-Null Count  Dtype  \n---  ------                     --------------  -----  \n 0   Item_Identifier            8523 non-null   object \n 1   Item_Weight                7060 non-null   float64\n 2   Item_Fat_Content           8523 non-null   object \n 3   Item_Visibility            8523 non-null   float64\n 4   Item_Type                  8523 non-null   object \n 5   Item_MRP                   8523 non-null   float64\n 6   Outlet_Identifier          8523 non-null   object \n 7   Outlet_Establishment_Year  8523 non-null   int64  \n 8   Outlet_Size                6113 non-null   object \n 9   Outlet_Location_Type       8523 non-null   object \n 10  Outlet_Type                8523 non-null   object \n 11  Item_Outlet_Sales          8523 non-null   float64\ndtypes: float64(4), int64(1), object(7)\nmemory usage: 799.2+ KB\n",
     "output_type": "stream"
    }
   ],
   "outputs_reference": "s3:deepnote-cell-outputs-production/f2b4df3e-60ad-4b54-a151-ceddce9bfe73"
  },
  {
   "cell_type": "code",
   "metadata": {
    "source_hash": "f88152d9",
    "execution_start": 1710149817539,
    "execution_millis": 348,
    "deepnote_to_be_reexecuted": false,
    "deepnote_app_block_visible": true,
    "cell_id": "508a2696ab414547bb289f7ce6f6235b",
    "deepnote_cell_type": "code"
   },
   "source": [
    "df.describe()"
   ],
   "block_group": "d3556e59d3ed4481a6bdf0a8d6429434",
   "execution_count": 9,
   "outputs": [
    {
     "output_type": "execute_result",
     "execution_count": 9,
     "data": {
      "application/vnd.deepnote.dataframe.v3+json": {
       "column_count": 5,
       "row_count": 8,
       "columns": [
        {
         "name": "Item_Weight",
         "dtype": "float64",
         "stats": {
          "unique_count": 8,
          "nan_count": 0,
          "min": "4.555",
          "max": "7060.0",
          "histogram": [
           {
            "bin_start": 4.555,
            "bin_end": 710.0994999999999,
            "count": 7
           },
           {
            "bin_start": 710.0994999999999,
            "bin_end": 1415.644,
            "count": 0
           },
           {
            "bin_start": 1415.644,
            "bin_end": 2121.1884999999997,
            "count": 0
           },
           {
            "bin_start": 2121.1884999999997,
            "bin_end": 2826.7329999999997,
            "count": 0
           },
           {
            "bin_start": 2826.7329999999997,
            "bin_end": 3532.2774999999997,
            "count": 0
           },
           {
            "bin_start": 3532.2774999999997,
            "bin_end": 4237.822,
            "count": 0
           },
           {
            "bin_start": 4237.822,
            "bin_end": 4943.3665,
            "count": 0
           },
           {
            "bin_start": 4943.3665,
            "bin_end": 5648.911,
            "count": 0
           },
           {
            "bin_start": 5648.911,
            "bin_end": 6354.4555,
            "count": 0
           },
           {
            "bin_start": 6354.4555,
            "bin_end": 7060,
            "count": 1
           }
          ]
         }
        },
        {
         "name": "Item_Visibility",
         "dtype": "float64",
         "stats": {
          "unique_count": 8,
          "nan_count": 0,
          "min": "0.0",
          "max": "8523.0",
          "histogram": [
           {
            "bin_start": 0,
            "bin_end": 852.3,
            "count": 7
           },
           {
            "bin_start": 852.3,
            "bin_end": 1704.6,
            "count": 0
           },
           {
            "bin_start": 1704.6,
            "bin_end": 2556.8999999999996,
            "count": 0
           },
           {
            "bin_start": 2556.8999999999996,
            "bin_end": 3409.2,
            "count": 0
           },
           {
            "bin_start": 3409.2,
            "bin_end": 4261.5,
            "count": 0
           },
           {
            "bin_start": 4261.5,
            "bin_end": 5113.799999999999,
            "count": 0
           },
           {
            "bin_start": 5113.799999999999,
            "bin_end": 5966.099999999999,
            "count": 0
           },
           {
            "bin_start": 5966.099999999999,
            "bin_end": 6818.4,
            "count": 0
           },
           {
            "bin_start": 6818.4,
            "bin_end": 7670.7,
            "count": 0
           },
           {
            "bin_start": 7670.7,
            "bin_end": 8523,
            "count": 1
           }
          ]
         }
        },
        {
         "name": "Item_MRP",
         "dtype": "float64",
         "stats": {
          "unique_count": 8,
          "nan_count": 0,
          "min": "31.29",
          "max": "8523.0",
          "histogram": [
           {
            "bin_start": 31.29,
            "bin_end": 880.4609999999999,
            "count": 7
           },
           {
            "bin_start": 880.4609999999999,
            "bin_end": 1729.6319999999998,
            "count": 0
           },
           {
            "bin_start": 1729.6319999999998,
            "bin_end": 2578.803,
            "count": 0
           },
           {
            "bin_start": 2578.803,
            "bin_end": 3427.9739999999997,
            "count": 0
           },
           {
            "bin_start": 3427.9739999999997,
            "bin_end": 4277.1449999999995,
            "count": 0
           },
           {
            "bin_start": 4277.1449999999995,
            "bin_end": 5126.316,
            "count": 0
           },
           {
            "bin_start": 5126.316,
            "bin_end": 5975.486999999999,
            "count": 0
           },
           {
            "bin_start": 5975.486999999999,
            "bin_end": 6824.657999999999,
            "count": 0
           },
           {
            "bin_start": 6824.657999999999,
            "bin_end": 7673.829,
            "count": 0
           },
           {
            "bin_start": 7673.829,
            "bin_end": 8523,
            "count": 1
           }
          ]
         }
        },
        {
         "name": "Outlet_Establishment_Year",
         "dtype": "float64",
         "stats": {
          "unique_count": 8,
          "nan_count": 0,
          "min": "8.371760408092655",
          "max": "8523.0",
          "histogram": [
           {
            "bin_start": 8.371760408092655,
            "bin_end": 859.8345843672835,
            "count": 1
           },
           {
            "bin_start": 859.8345843672835,
            "bin_end": 1711.2974083264744,
            "count": 0
           },
           {
            "bin_start": 1711.2974083264744,
            "bin_end": 2562.760232285665,
            "count": 6
           },
           {
            "bin_start": 2562.760232285665,
            "bin_end": 3414.223056244856,
            "count": 0
           },
           {
            "bin_start": 3414.223056244856,
            "bin_end": 4265.685880204047,
            "count": 0
           },
           {
            "bin_start": 4265.685880204047,
            "bin_end": 5117.148704163238,
            "count": 0
           },
           {
            "bin_start": 5117.148704163238,
            "bin_end": 5968.611528122428,
            "count": 0
           },
           {
            "bin_start": 5968.611528122428,
            "bin_end": 6820.0743520816195,
            "count": 0
           },
           {
            "bin_start": 6820.0743520816195,
            "bin_end": 7671.537176040811,
            "count": 0
           },
           {
            "bin_start": 7671.537176040811,
            "bin_end": 8523,
            "count": 1
           }
          ]
         }
        },
        {
         "name": "Item_Outlet_Sales",
         "dtype": "float64",
         "stats": {
          "unique_count": 8,
          "nan_count": 0,
          "min": "33.29",
          "max": "13086.9648",
          "histogram": [
           {
            "bin_start": 33.29,
            "bin_end": 1338.6574799999999,
            "count": 2
           },
           {
            "bin_start": 1338.6574799999999,
            "bin_end": 2644.0249599999997,
            "count": 3
           },
           {
            "bin_start": 2644.0249599999997,
            "bin_end": 3949.3924399999996,
            "count": 1
           },
           {
            "bin_start": 3949.3924399999996,
            "bin_end": 5254.7599199999995,
            "count": 0
           },
           {
            "bin_start": 5254.7599199999995,
            "bin_end": 6560.127399999999,
            "count": 0
           },
           {
            "bin_start": 6560.127399999999,
            "bin_end": 7865.494879999999,
            "count": 0
           },
           {
            "bin_start": 7865.494879999999,
            "bin_end": 9170.86236,
            "count": 1
           },
           {
            "bin_start": 9170.86236,
            "bin_end": 10476.22984,
            "count": 0
           },
           {
            "bin_start": 10476.22984,
            "bin_end": 11781.59732,
            "count": 0
           },
           {
            "bin_start": 11781.59732,
            "bin_end": 13086.9648,
            "count": 1
           }
          ]
         }
        },
        {
         "name": "_deepnote_index_column",
         "dtype": "object"
        }
       ],
       "rows": [
        {
         "Item_Weight": 7060,
         "Item_Visibility": 8523,
         "Item_MRP": 8523,
         "Outlet_Establishment_Year": 8523,
         "Item_Outlet_Sales": 8523,
         "_deepnote_index_column": "count"
        },
        {
         "Item_Weight": 12.857645184135976,
         "Item_Visibility": 0.06613202877895108,
         "Item_MRP": 140.9927819781767,
         "Outlet_Establishment_Year": 1997.8318667135984,
         "Item_Outlet_Sales": 2181.288913575032,
         "_deepnote_index_column": "mean"
        },
        {
         "Item_Weight": 4.643456499186415,
         "Item_Visibility": 0.05159782232113512,
         "Item_MRP": 62.27506651219046,
         "Outlet_Establishment_Year": 8.371760408092655,
         "Item_Outlet_Sales": 1706.499615733833,
         "_deepnote_index_column": "std"
        },
        {
         "Item_Weight": 4.555,
         "Item_Visibility": 0,
         "Item_MRP": 31.29,
         "Outlet_Establishment_Year": 1985,
         "Item_Outlet_Sales": 33.29,
         "_deepnote_index_column": "min"
        },
        {
         "Item_Weight": 8.77375,
         "Item_Visibility": 0.0269894775,
         "Item_MRP": 93.8265,
         "Outlet_Establishment_Year": 1987,
         "Item_Outlet_Sales": 834.2474,
         "_deepnote_index_column": "25%"
        },
        {
         "Item_Weight": 12.6,
         "Item_Visibility": 0.053930934,
         "Item_MRP": 143.0128,
         "Outlet_Establishment_Year": 1999,
         "Item_Outlet_Sales": 1794.331,
         "_deepnote_index_column": "50%"
        },
        {
         "Item_Weight": 16.85,
         "Item_Visibility": 0.0945852925,
         "Item_MRP": 185.6437,
         "Outlet_Establishment_Year": 2004,
         "Item_Outlet_Sales": 3101.2964,
         "_deepnote_index_column": "75%"
        },
        {
         "Item_Weight": 21.35,
         "Item_Visibility": 0.328390948,
         "Item_MRP": 266.8884,
         "Outlet_Establishment_Year": 2009,
         "Item_Outlet_Sales": 13086.9648,
         "_deepnote_index_column": "max"
        }
       ]
      },
      "text/plain": "       Item_Weight  Item_Visibility     Item_MRP  Outlet_Establishment_Year  \\\ncount  7060.000000      8523.000000  8523.000000                8523.000000   \nmean     12.857645         0.066132   140.992782                1997.831867   \nstd       4.643456         0.051598    62.275067                   8.371760   \nmin       4.555000         0.000000    31.290000                1985.000000   \n25%       8.773750         0.026989    93.826500                1987.000000   \n50%      12.600000         0.053931   143.012800                1999.000000   \n75%      16.850000         0.094585   185.643700                2004.000000   \nmax      21.350000         0.328391   266.888400                2009.000000   \n\n       Item_Outlet_Sales  \ncount        8523.000000  \nmean         2181.288914  \nstd          1706.499616  \nmin            33.290000  \n25%           834.247400  \n50%          1794.331000  \n75%          3101.296400  \nmax         13086.964800  ",
      "text/html": "<div>\n<style scoped>\n    .dataframe tbody tr th:only-of-type {\n        vertical-align: middle;\n    }\n\n    .dataframe tbody tr th {\n        vertical-align: top;\n    }\n\n    .dataframe thead th {\n        text-align: right;\n    }\n</style>\n<table border=\"1\" class=\"dataframe\">\n  <thead>\n    <tr style=\"text-align: right;\">\n      <th></th>\n      <th>Item_Weight</th>\n      <th>Item_Visibility</th>\n      <th>Item_MRP</th>\n      <th>Outlet_Establishment_Year</th>\n      <th>Item_Outlet_Sales</th>\n    </tr>\n  </thead>\n  <tbody>\n    <tr>\n      <th>count</th>\n      <td>7060.000000</td>\n      <td>8523.000000</td>\n      <td>8523.000000</td>\n      <td>8523.000000</td>\n      <td>8523.000000</td>\n    </tr>\n    <tr>\n      <th>mean</th>\n      <td>12.857645</td>\n      <td>0.066132</td>\n      <td>140.992782</td>\n      <td>1997.831867</td>\n      <td>2181.288914</td>\n    </tr>\n    <tr>\n      <th>std</th>\n      <td>4.643456</td>\n      <td>0.051598</td>\n      <td>62.275067</td>\n      <td>8.371760</td>\n      <td>1706.499616</td>\n    </tr>\n    <tr>\n      <th>min</th>\n      <td>4.555000</td>\n      <td>0.000000</td>\n      <td>31.290000</td>\n      <td>1985.000000</td>\n      <td>33.290000</td>\n    </tr>\n    <tr>\n      <th>25%</th>\n      <td>8.773750</td>\n      <td>0.026989</td>\n      <td>93.826500</td>\n      <td>1987.000000</td>\n      <td>834.247400</td>\n    </tr>\n    <tr>\n      <th>50%</th>\n      <td>12.600000</td>\n      <td>0.053931</td>\n      <td>143.012800</td>\n      <td>1999.000000</td>\n      <td>1794.331000</td>\n    </tr>\n    <tr>\n      <th>75%</th>\n      <td>16.850000</td>\n      <td>0.094585</td>\n      <td>185.643700</td>\n      <td>2004.000000</td>\n      <td>3101.296400</td>\n    </tr>\n    <tr>\n      <th>max</th>\n      <td>21.350000</td>\n      <td>0.328391</td>\n      <td>266.888400</td>\n      <td>2009.000000</td>\n      <td>13086.964800</td>\n    </tr>\n  </tbody>\n</table>\n</div>"
     },
     "metadata": {}
    }
   ],
   "outputs_reference": "s3:deepnote-cell-outputs-production/9c4bc8b2-6a90-4b25-a5d1-104ea8a3e8af"
  },
  {
   "cell_type": "code",
   "metadata": {
    "source_hash": "f3dd26da",
    "execution_start": 1710149818322,
    "execution_millis": 57,
    "deepnote_to_be_reexecuted": false,
    "deepnote_app_block_visible": true,
    "cell_id": "09870a20f7964fca84f8fdc826db81a8",
    "deepnote_cell_type": "code"
   },
   "source": [
    "df.isnull().sum()"
   ],
   "block_group": "3145231c9f7b4154af1350422afbddc3",
   "execution_count": 10,
   "outputs": [
    {
     "output_type": "execute_result",
     "execution_count": 10,
     "data": {
      "text/plain": "Item_Identifier                 0\nItem_Weight                  1463\nItem_Fat_Content                0\nItem_Visibility                 0\nItem_Type                       0\nItem_MRP                        0\nOutlet_Identifier               0\nOutlet_Establishment_Year       0\nOutlet_Size                  2410\nOutlet_Location_Type            0\nOutlet_Type                     0\nItem_Outlet_Sales               0\ndtype: int64"
     },
     "metadata": {}
    }
   ],
   "outputs_reference": "dbtable:cell_outputs/c042c5c9-072f-4651-9c98-3bc149a0afb9"
  },
  {
   "cell_type": "markdown",
   "metadata": {
    "formattedRanges": [],
    "deepnote_app_block_visible": true,
    "cell_id": "23347186dec94718beaf1208302397e2",
    "deepnote_cell_type": "text-cell-h1"
   },
   "source": [
    "# Feature Engineering"
   ],
   "block_group": "df943b452f2c4bc6892a6c3386fe86a1"
  },
  {
   "cell_type": "code",
   "metadata": {
    "source_hash": "d1de3636",
    "execution_start": 1710149819473,
    "execution_millis": 177,
    "deepnote_to_be_reexecuted": false,
    "deepnote_app_block_visible": true,
    "cell_id": "ab1dd425ae7c4874af4798832530e9fc",
    "deepnote_cell_type": "code"
   },
   "source": [
    "cat_cols = [col for col, dtype in df.dtypes.items() if dtype == 'object']\n",
    "print(cat_cols)"
   ],
   "block_group": "08d0ef27806848a3a92668fb25ddfed9",
   "execution_count": 11,
   "outputs": [
    {
     "name": "stdout",
     "text": "['Item_Identifier', 'Item_Fat_Content', 'Item_Type', 'Outlet_Identifier', 'Outlet_Size', 'Outlet_Location_Type', 'Outlet_Type']\n",
     "output_type": "stream"
    }
   ],
   "outputs_reference": "dbtable:cell_outputs/647ac681-58df-41d8-a049-a0989b250699"
  },
  {
   "cell_type": "code",
   "metadata": {
    "source_hash": "6b39718",
    "execution_start": 1710149820277,
    "execution_millis": 229,
    "deepnote_to_be_reexecuted": false,
    "deepnote_app_block_visible": true,
    "cell_id": "5948f2b4aeb54460a2718d1ef48843f0",
    "deepnote_cell_type": "code"
   },
   "source": [
    "columns_to_remove = ['Item_Identifier', 'Outlet_Identifier']\n",
    "\n",
    "cat_cols = [col for col in cat_cols if col not in columns_to_remove]\n",
    "\n",
    "print(f\"2 columns deleted. Last version: {cat_cols}\")"
   ],
   "block_group": "b30981db2d09423ba15d19f5b3cddf47",
   "execution_count": 12,
   "outputs": [
    {
     "name": "stdout",
     "text": "2 columns deleted. Last version: ['Item_Fat_Content', 'Item_Type', 'Outlet_Size', 'Outlet_Location_Type', 'Outlet_Type']\n",
     "output_type": "stream"
    }
   ],
   "outputs_reference": "dbtable:cell_outputs/60a4bedf-505f-4953-8ecb-f5662a94df00"
  },
  {
   "cell_type": "code",
   "metadata": {
    "source_hash": "1b782ba3",
    "execution_start": 1710149821380,
    "execution_millis": 204,
    "deepnote_to_be_reexecuted": false,
    "deepnote_app_block_visible": true,
    "cell_id": "2bc6ad0c96224407b890e871f3ddafd5",
    "deepnote_cell_type": "code"
   },
   "source": [
    "df['Item_Weight'].fillna(df['Item_Weight'].mean(), inplace=True)\n",
    "df['Outlet_Size'].fillna(df['Outlet_Size'].mode()[0], inplace=True)\n",
    "df['Item_Visibility'].replace(0, df['Item_Visibility'].mean(), inplace=True)\n",
    "df['New_Item_Type'] = df['Item_Identifier'].str[:2]"
   ],
   "block_group": "2b8cd3ecadce4b36a3904a0783cc6080",
   "execution_count": 13,
   "outputs": [],
   "outputs_reference": null
  },
  {
   "cell_type": "code",
   "metadata": {
    "source_hash": "8c1c7465",
    "execution_start": 1710149822422,
    "execution_millis": 175,
    "deepnote_to_be_reexecuted": false,
    "deepnote_app_block_visible": true,
    "cell_id": "0540e8814426456ea6c14c87f3657ef7",
    "deepnote_cell_type": "code"
   },
   "source": [
    "item_type_mapping = {'FD': 'Food', 'NC': 'Non-Consumable', 'DR': 'Drinks'}\n",
    "df['New_Item_Type'] = df['New_Item_Type'].map(item_type_mapping)"
   ],
   "block_group": "74771194ed424048b7eb572c7849749d",
   "execution_count": 14,
   "outputs": [],
   "outputs_reference": null
  },
  {
   "cell_type": "code",
   "metadata": {
    "source_hash": "a1e5dd1e",
    "execution_start": 1710149823455,
    "execution_millis": 158,
    "deepnote_to_be_reexecuted": false,
    "deepnote_app_block_visible": true,
    "cell_id": "8956f33991df4f028b90e6fa2a9803d6",
    "deepnote_cell_type": "code"
   },
   "source": [
    "df.loc[df['New_Item_Type'] == 'Non-Consumable', 'Item_Fat_Content'] = 'Non-Edible'"
   ],
   "block_group": "2b173f4e89114dfe921b5fd930cffa2e",
   "execution_count": 15,
   "outputs": [],
   "outputs_reference": null
  },
  {
   "cell_type": "code",
   "metadata": {
    "source_hash": "c3ab882c",
    "execution_start": 1710149824505,
    "execution_millis": 101,
    "deepnote_to_be_reexecuted": false,
    "deepnote_app_block_visible": true,
    "cell_id": "a2a1d2a0efd04727aebbe643f7eb7e82",
    "deepnote_cell_type": "code"
   },
   "source": [
    "this_year = datetime.today().year\n",
    "\n",
    "df['Outlet_Years'] = this_year - df['Outlet_Establishment_Year']"
   ],
   "block_group": "a1453f70472d4493bdb3686c187690ff",
   "execution_count": 16,
   "outputs": [],
   "outputs_reference": null
  },
  {
   "cell_type": "code",
   "metadata": {
    "source_hash": "c085b6ba",
    "execution_start": 1710149825681,
    "execution_millis": 338,
    "deepnote_to_be_reexecuted": false,
    "deepnote_app_block_visible": true,
    "cell_id": "cd7f81ad648945efb8ca6debfa0843dc",
    "deepnote_cell_type": "code"
   },
   "source": [
    "df.head()"
   ],
   "block_group": "9c39095559ec409e93ee0a1404ba41e2",
   "execution_count": 17,
   "outputs": [
    {
     "output_type": "execute_result",
     "execution_count": 17,
     "data": {
      "application/vnd.deepnote.dataframe.v3+json": {
       "column_count": 14,
       "row_count": 5,
       "columns": [
        {
         "name": "Item_Identifier",
         "dtype": "object",
         "stats": {
          "unique_count": 5,
          "nan_count": 0,
          "categories": [
           {
            "name": "FDA15",
            "count": 1
           },
           {
            "name": "DRC01",
            "count": 1
           },
           {
            "name": "3 others",
            "count": 3
           }
          ]
         }
        },
        {
         "name": "Item_Weight",
         "dtype": "float64",
         "stats": {
          "unique_count": 5,
          "nan_count": 0,
          "min": "5.92",
          "max": "19.2",
          "histogram": [
           {
            "bin_start": 5.92,
            "bin_end": 7.247999999999999,
            "count": 1
           },
           {
            "bin_start": 7.247999999999999,
            "bin_end": 8.576,
            "count": 0
           },
           {
            "bin_start": 8.576,
            "bin_end": 9.904,
            "count": 2
           },
           {
            "bin_start": 9.904,
            "bin_end": 11.232,
            "count": 0
           },
           {
            "bin_start": 11.232,
            "bin_end": 12.559999999999999,
            "count": 0
           },
           {
            "bin_start": 12.559999999999999,
            "bin_end": 13.887999999999998,
            "count": 0
           },
           {
            "bin_start": 13.887999999999998,
            "bin_end": 15.216,
            "count": 0
           },
           {
            "bin_start": 15.216,
            "bin_end": 16.543999999999997,
            "count": 0
           },
           {
            "bin_start": 16.543999999999997,
            "bin_end": 17.872,
            "count": 1
           },
           {
            "bin_start": 17.872,
            "bin_end": 19.2,
            "count": 1
           }
          ]
         }
        },
        {
         "name": "Item_Fat_Content",
         "dtype": "object",
         "stats": {
          "unique_count": 3,
          "nan_count": 0,
          "categories": [
           {
            "name": "Low Fat",
            "count": 2
           },
           {
            "name": "Regular",
            "count": 2
           },
           {
            "name": "Non-Edible",
            "count": 1
           }
          ]
         }
        },
        {
         "name": "Item_Visibility",
         "dtype": "float64",
         "stats": {
          "unique_count": 4,
          "nan_count": 0,
          "min": "0.016047301",
          "max": "0.06613202877895108",
          "histogram": [
           {
            "bin_start": 0.016047301,
            "bin_end": 0.02105577377789511,
            "count": 3
           },
           {
            "bin_start": 0.02105577377789511,
            "bin_end": 0.026064246555790215,
            "count": 0
           },
           {
            "bin_start": 0.026064246555790215,
            "bin_end": 0.03107271933368532,
            "count": 0
           },
           {
            "bin_start": 0.03107271933368532,
            "bin_end": 0.03608119211158043,
            "count": 0
           },
           {
            "bin_start": 0.03608119211158043,
            "bin_end": 0.04108966488947554,
            "count": 0
           },
           {
            "bin_start": 0.04108966488947554,
            "bin_end": 0.04609813766737064,
            "count": 0
           },
           {
            "bin_start": 0.04609813766737064,
            "bin_end": 0.05110661044526575,
            "count": 0
           },
           {
            "bin_start": 0.05110661044526575,
            "bin_end": 0.05611508322316086,
            "count": 0
           },
           {
            "bin_start": 0.05611508322316086,
            "bin_end": 0.06112355600105597,
            "count": 0
           },
           {
            "bin_start": 0.06112355600105597,
            "bin_end": 0.06613202877895108,
            "count": 2
           }
          ]
         }
        },
        {
         "name": "Item_Type",
         "dtype": "object",
         "stats": {
          "unique_count": 5,
          "nan_count": 0,
          "categories": [
           {
            "name": "Dairy",
            "count": 1
           },
           {
            "name": "Soft Drinks",
            "count": 1
           },
           {
            "name": "3 others",
            "count": 3
           }
          ]
         }
        },
        {
         "name": "Item_MRP",
         "dtype": "float64",
         "stats": {
          "unique_count": 5,
          "nan_count": 0,
          "min": "48.2692",
          "max": "249.8092",
          "histogram": [
           {
            "bin_start": 48.2692,
            "bin_end": 68.42320000000001,
            "count": 2
           },
           {
            "bin_start": 68.42320000000001,
            "bin_end": 88.5772,
            "count": 0
           },
           {
            "bin_start": 88.5772,
            "bin_end": 108.7312,
            "count": 0
           },
           {
            "bin_start": 108.7312,
            "bin_end": 128.8852,
            "count": 0
           },
           {
            "bin_start": 128.8852,
            "bin_end": 149.0392,
            "count": 1
           },
           {
            "bin_start": 149.0392,
            "bin_end": 169.19320000000002,
            "count": 0
           },
           {
            "bin_start": 169.19320000000002,
            "bin_end": 189.34720000000004,
            "count": 1
           },
           {
            "bin_start": 189.34720000000004,
            "bin_end": 209.50120000000004,
            "count": 0
           },
           {
            "bin_start": 209.50120000000004,
            "bin_end": 229.65520000000004,
            "count": 0
           },
           {
            "bin_start": 229.65520000000004,
            "bin_end": 249.8092,
            "count": 1
           }
          ]
         }
        },
        {
         "name": "Outlet_Identifier",
         "dtype": "object",
         "stats": {
          "unique_count": 4,
          "nan_count": 0,
          "categories": [
           {
            "name": "OUT049",
            "count": 2
           },
           {
            "name": "OUT018",
            "count": 1
           },
           {
            "name": "2 others",
            "count": 2
           }
          ]
         }
        },
        {
         "name": "Outlet_Establishment_Year",
         "dtype": "int64",
         "stats": {
          "unique_count": 4,
          "nan_count": 0,
          "min": "1987",
          "max": "2009",
          "histogram": [
           {
            "bin_start": 1987,
            "bin_end": 1989.2,
            "count": 1
           },
           {
            "bin_start": 1989.2,
            "bin_end": 1991.4,
            "count": 0
           },
           {
            "bin_start": 1991.4,
            "bin_end": 1993.6,
            "count": 0
           },
           {
            "bin_start": 1993.6,
            "bin_end": 1995.8,
            "count": 0
           },
           {
            "bin_start": 1995.8,
            "bin_end": 1998,
            "count": 0
           },
           {
            "bin_start": 1998,
            "bin_end": 2000.2,
            "count": 3
           },
           {
            "bin_start": 2000.2,
            "bin_end": 2002.4,
            "count": 0
           },
           {
            "bin_start": 2002.4,
            "bin_end": 2004.6,
            "count": 0
           },
           {
            "bin_start": 2004.6,
            "bin_end": 2006.8,
            "count": 0
           },
           {
            "bin_start": 2006.8,
            "bin_end": 2009,
            "count": 1
           }
          ]
         }
        },
        {
         "name": "Outlet_Size",
         "dtype": "object",
         "stats": {
          "unique_count": 2,
          "nan_count": 0,
          "categories": [
           {
            "name": "Medium",
            "count": 4
           },
           {
            "name": "High",
            "count": 1
           }
          ]
         }
        },
        {
         "name": "Outlet_Location_Type",
         "dtype": "object",
         "stats": {
          "unique_count": 2,
          "nan_count": 0,
          "categories": [
           {
            "name": "Tier 3",
            "count": 3
           },
           {
            "name": "Tier 1",
            "count": 2
           }
          ]
         }
        },
        {
         "name": "Outlet_Type",
         "dtype": "object",
         "stats": {
          "unique_count": 3,
          "nan_count": 0,
          "categories": [
           {
            "name": "Supermarket Type1",
            "count": 3
           },
           {
            "name": "Supermarket Type2",
            "count": 1
           },
           {
            "name": "Grocery Store",
            "count": 1
           }
          ]
         }
        },
        {
         "name": "Item_Outlet_Sales",
         "dtype": "float64",
         "stats": {
          "unique_count": 5,
          "nan_count": 0,
          "min": "443.4228",
          "max": "3735.138",
          "histogram": [
           {
            "bin_start": 443.4228,
            "bin_end": 772.5943199999999,
            "count": 2
           },
           {
            "bin_start": 772.5943199999999,
            "bin_end": 1101.76584,
            "count": 1
           },
           {
            "bin_start": 1101.76584,
            "bin_end": 1430.93736,
            "count": 0
           },
           {
            "bin_start": 1430.93736,
            "bin_end": 1760.10888,
            "count": 0
           },
           {
            "bin_start": 1760.10888,
            "bin_end": 2089.2803999999996,
            "count": 0
           },
           {
            "bin_start": 2089.2803999999996,
            "bin_end": 2418.45192,
            "count": 1
           },
           {
            "bin_start": 2418.45192,
            "bin_end": 2747.62344,
            "count": 0
           },
           {
            "bin_start": 2747.62344,
            "bin_end": 3076.7949599999997,
            "count": 0
           },
           {
            "bin_start": 3076.7949599999997,
            "bin_end": 3405.9664799999996,
            "count": 0
           },
           {
            "bin_start": 3405.9664799999996,
            "bin_end": 3735.138,
            "count": 1
           }
          ]
         }
        },
        {
         "name": "New_Item_Type",
         "dtype": "object",
         "stats": {
          "unique_count": 3,
          "nan_count": 0,
          "categories": [
           {
            "name": "Food",
            "count": 3
           },
           {
            "name": "Drinks",
            "count": 1
           },
           {
            "name": "Non-Consumable",
            "count": 1
           }
          ]
         }
        },
        {
         "name": "Outlet_Years",
         "dtype": "int64",
         "stats": {
          "unique_count": 4,
          "nan_count": 0,
          "min": "15",
          "max": "37",
          "histogram": [
           {
            "bin_start": 15,
            "bin_end": 17.2,
            "count": 1
           },
           {
            "bin_start": 17.2,
            "bin_end": 19.4,
            "count": 0
           },
           {
            "bin_start": 19.4,
            "bin_end": 21.6,
            "count": 0
           },
           {
            "bin_start": 21.6,
            "bin_end": 23.8,
            "count": 0
           },
           {
            "bin_start": 23.8,
            "bin_end": 26,
            "count": 2
           },
           {
            "bin_start": 26,
            "bin_end": 28.200000000000003,
            "count": 1
           },
           {
            "bin_start": 28.200000000000003,
            "bin_end": 30.400000000000002,
            "count": 0
           },
           {
            "bin_start": 30.400000000000002,
            "bin_end": 32.6,
            "count": 0
           },
           {
            "bin_start": 32.6,
            "bin_end": 34.8,
            "count": 0
           },
           {
            "bin_start": 34.8,
            "bin_end": 37,
            "count": 1
           }
          ]
         }
        },
        {
         "name": "_deepnote_index_column",
         "dtype": "int64"
        }
       ],
       "rows": [
        {
         "Item_Identifier": "FDA15",
         "Item_Weight": 9.3,
         "Item_Fat_Content": "Low Fat",
         "Item_Visibility": 0.016047301,
         "Item_Type": "Dairy",
         "Item_MRP": 249.8092,
         "Outlet_Identifier": "OUT049",
         "Outlet_Establishment_Year": 1999,
         "Outlet_Size": "Medium",
         "Outlet_Location_Type": "Tier 1",
         "Outlet_Type": "Supermarket Type1",
         "Item_Outlet_Sales": 3735.138,
         "New_Item_Type": "Food",
         "Outlet_Years": 25,
         "_deepnote_index_column": 0
        },
        {
         "Item_Identifier": "DRC01",
         "Item_Weight": 5.92,
         "Item_Fat_Content": "Regular",
         "Item_Visibility": 0.019278216,
         "Item_Type": "Soft Drinks",
         "Item_MRP": 48.2692,
         "Outlet_Identifier": "OUT018",
         "Outlet_Establishment_Year": 2009,
         "Outlet_Size": "Medium",
         "Outlet_Location_Type": "Tier 3",
         "Outlet_Type": "Supermarket Type2",
         "Item_Outlet_Sales": 443.4228,
         "New_Item_Type": "Drinks",
         "Outlet_Years": 15,
         "_deepnote_index_column": 1
        },
        {
         "Item_Identifier": "FDN15",
         "Item_Weight": 17.5,
         "Item_Fat_Content": "Low Fat",
         "Item_Visibility": 0.016760075,
         "Item_Type": "Meat",
         "Item_MRP": 141.618,
         "Outlet_Identifier": "OUT049",
         "Outlet_Establishment_Year": 1999,
         "Outlet_Size": "Medium",
         "Outlet_Location_Type": "Tier 1",
         "Outlet_Type": "Supermarket Type1",
         "Item_Outlet_Sales": 2097.27,
         "New_Item_Type": "Food",
         "Outlet_Years": 25,
         "_deepnote_index_column": 2
        },
        {
         "Item_Identifier": "FDX07",
         "Item_Weight": 19.2,
         "Item_Fat_Content": "Regular",
         "Item_Visibility": 0.06613202877895108,
         "Item_Type": "Fruits and Vegetables",
         "Item_MRP": 182.095,
         "Outlet_Identifier": "OUT010",
         "Outlet_Establishment_Year": 1998,
         "Outlet_Size": "Medium",
         "Outlet_Location_Type": "Tier 3",
         "Outlet_Type": "Grocery Store",
         "Item_Outlet_Sales": 732.38,
         "New_Item_Type": "Food",
         "Outlet_Years": 26,
         "_deepnote_index_column": 3
        },
        {
         "Item_Identifier": "NCD19",
         "Item_Weight": 8.93,
         "Item_Fat_Content": "Non-Edible",
         "Item_Visibility": 0.06613202877895108,
         "Item_Type": "Household",
         "Item_MRP": 53.8614,
         "Outlet_Identifier": "OUT013",
         "Outlet_Establishment_Year": 1987,
         "Outlet_Size": "High",
         "Outlet_Location_Type": "Tier 3",
         "Outlet_Type": "Supermarket Type1",
         "Item_Outlet_Sales": 994.7052,
         "New_Item_Type": "Non-Consumable",
         "Outlet_Years": 37,
         "_deepnote_index_column": 4
        }
       ]
      },
      "text/plain": "  Item_Identifier  Item_Weight Item_Fat_Content  Item_Visibility  \\\n0           FDA15         9.30          Low Fat         0.016047   \n1           DRC01         5.92          Regular         0.019278   \n2           FDN15        17.50          Low Fat         0.016760   \n3           FDX07        19.20          Regular         0.066132   \n4           NCD19         8.93       Non-Edible         0.066132   \n\n               Item_Type  Item_MRP Outlet_Identifier  \\\n0                  Dairy  249.8092            OUT049   \n1            Soft Drinks   48.2692            OUT018   \n2                   Meat  141.6180            OUT049   \n3  Fruits and Vegetables  182.0950            OUT010   \n4              Household   53.8614            OUT013   \n\n   Outlet_Establishment_Year Outlet_Size Outlet_Location_Type  \\\n0                       1999      Medium               Tier 1   \n1                       2009      Medium               Tier 3   \n2                       1999      Medium               Tier 1   \n3                       1998      Medium               Tier 3   \n4                       1987        High               Tier 3   \n\n         Outlet_Type  Item_Outlet_Sales   New_Item_Type  Outlet_Years  \n0  Supermarket Type1          3735.1380            Food            25  \n1  Supermarket Type2           443.4228          Drinks            15  \n2  Supermarket Type1          2097.2700            Food            25  \n3      Grocery Store           732.3800            Food            26  \n4  Supermarket Type1           994.7052  Non-Consumable            37  ",
      "text/html": "<div>\n<style scoped>\n    .dataframe tbody tr th:only-of-type {\n        vertical-align: middle;\n    }\n\n    .dataframe tbody tr th {\n        vertical-align: top;\n    }\n\n    .dataframe thead th {\n        text-align: right;\n    }\n</style>\n<table border=\"1\" class=\"dataframe\">\n  <thead>\n    <tr style=\"text-align: right;\">\n      <th></th>\n      <th>Item_Identifier</th>\n      <th>Item_Weight</th>\n      <th>Item_Fat_Content</th>\n      <th>Item_Visibility</th>\n      <th>Item_Type</th>\n      <th>Item_MRP</th>\n      <th>Outlet_Identifier</th>\n      <th>Outlet_Establishment_Year</th>\n      <th>Outlet_Size</th>\n      <th>Outlet_Location_Type</th>\n      <th>Outlet_Type</th>\n      <th>Item_Outlet_Sales</th>\n      <th>New_Item_Type</th>\n      <th>Outlet_Years</th>\n    </tr>\n  </thead>\n  <tbody>\n    <tr>\n      <th>0</th>\n      <td>FDA15</td>\n      <td>9.30</td>\n      <td>Low Fat</td>\n      <td>0.016047</td>\n      <td>Dairy</td>\n      <td>249.8092</td>\n      <td>OUT049</td>\n      <td>1999</td>\n      <td>Medium</td>\n      <td>Tier 1</td>\n      <td>Supermarket Type1</td>\n      <td>3735.1380</td>\n      <td>Food</td>\n      <td>25</td>\n    </tr>\n    <tr>\n      <th>1</th>\n      <td>DRC01</td>\n      <td>5.92</td>\n      <td>Regular</td>\n      <td>0.019278</td>\n      <td>Soft Drinks</td>\n      <td>48.2692</td>\n      <td>OUT018</td>\n      <td>2009</td>\n      <td>Medium</td>\n      <td>Tier 3</td>\n      <td>Supermarket Type2</td>\n      <td>443.4228</td>\n      <td>Drinks</td>\n      <td>15</td>\n    </tr>\n    <tr>\n      <th>2</th>\n      <td>FDN15</td>\n      <td>17.50</td>\n      <td>Low Fat</td>\n      <td>0.016760</td>\n      <td>Meat</td>\n      <td>141.6180</td>\n      <td>OUT049</td>\n      <td>1999</td>\n      <td>Medium</td>\n      <td>Tier 1</td>\n      <td>Supermarket Type1</td>\n      <td>2097.2700</td>\n      <td>Food</td>\n      <td>25</td>\n    </tr>\n    <tr>\n      <th>3</th>\n      <td>FDX07</td>\n      <td>19.20</td>\n      <td>Regular</td>\n      <td>0.066132</td>\n      <td>Fruits and Vegetables</td>\n      <td>182.0950</td>\n      <td>OUT010</td>\n      <td>1998</td>\n      <td>Medium</td>\n      <td>Tier 3</td>\n      <td>Grocery Store</td>\n      <td>732.3800</td>\n      <td>Food</td>\n      <td>26</td>\n    </tr>\n    <tr>\n      <th>4</th>\n      <td>NCD19</td>\n      <td>8.93</td>\n      <td>Non-Edible</td>\n      <td>0.066132</td>\n      <td>Household</td>\n      <td>53.8614</td>\n      <td>OUT013</td>\n      <td>1987</td>\n      <td>High</td>\n      <td>Tier 3</td>\n      <td>Supermarket Type1</td>\n      <td>994.7052</td>\n      <td>Non-Consumable</td>\n      <td>37</td>\n    </tr>\n  </tbody>\n</table>\n</div>"
     },
     "metadata": {}
    }
   ],
   "outputs_reference": "s3:deepnote-cell-outputs-production/03abfbbd-4057-4568-983d-07d80a52b73a"
  },
  {
   "cell_type": "markdown",
   "metadata": {
    "formattedRanges": [],
    "deepnote_app_block_visible": true,
    "cell_id": "c2a0c494b56f4927aae81ce2da524de3",
    "deepnote_cell_type": "text-cell-h1"
   },
   "source": [
    "# EDA"
   ],
   "block_group": "375ff77d73b143dc9ffce3d7b955cb69"
  },
  {
   "cell_type": "code",
   "metadata": {
    "source_hash": "ad99fac6",
    "execution_start": 1710149828051,
    "execution_millis": 51,
    "deepnote_to_be_reexecuted": false,
    "deepnote_app_block_visible": true,
    "cell_id": "941dd3466a0a44f0b36303528b68e720",
    "deepnote_cell_type": "code"
   },
   "source": [
    "def displot(column: pd.Series, title: str):\n",
    "    sns.displot(column)\n",
    "    plt.title(title)\n",
    "    plt.show()\n",
    "    plt.savefig(f\"plots/{title}.png\")"
   ],
   "block_group": "81ac105185ba441e954e826594a03540",
   "execution_count": 18,
   "outputs": [],
   "outputs_reference": null
  },
  {
   "cell_type": "code",
   "metadata": {
    "source_hash": "403bda2f",
    "execution_start": 1710149829147,
    "execution_millis": 84,
    "deepnote_to_be_reexecuted": false,
    "deepnote_app_block_visible": true,
    "cell_id": "6bc42204fde94cf48dffb5eaea082ab0",
    "deepnote_cell_type": "code"
   },
   "source": [
    "def countplot(column: pd.Series, title: str):\n",
    "    count = column.value_counts()\n",
    "\n",
    "    chart = sns.barplot(x=count.index, y=count.values)\n",
    "    chart.set_title(title)\n",
    "    \n",
    "    plt.savefig(f\"plots/{title}.png\")\n",
    "\n",
    "    plt.show()"
   ],
   "block_group": "69eadd56236743e0ba3addee323d8cfe",
   "execution_count": 19,
   "outputs": [],
   "outputs_reference": null
  },
  {
   "cell_type": "code",
   "metadata": {
    "source_hash": "ea460ead",
    "execution_start": 1710149830474,
    "execution_millis": 4372,
    "deepnote_to_be_reexecuted": false,
    "deepnote_app_block_visible": true,
    "cell_id": "5a81f7a342f943e5be858a15c45f2d8a",
    "deepnote_cell_type": "code"
   },
   "source": [
    "numeric_columns = ['Item_Weight', 'Item_Visibility', 'Item_MRP', 'Item_Outlet_Sales']\n",
    "\n",
    "for column in numeric_columns:\n",
    "    displot(df[column], column)"
   ],
   "block_group": "2f1221664d57475a94949b7fd89c9223",
   "execution_count": 20,
   "outputs": [
    {
     "data": {
      "text/plain": "<Figure size 500x500 with 1 Axes>",
      "image/png": "[encoded data removed]"
     },
     "metadata": {
      "image/png": {
       "width": 489,
       "height": 512
      }
     },
     "output_type": "display_data"
    },
    {
     "data": {
      "text/plain": "<Figure size 640x480 with 0 Axes>"
     },
     "metadata": {},
     "output_type": "display_data"
    },
    {
     "data": {
      "text/plain": "<Figure size 500x500 with 1 Axes>",
      "image/png": "[encoded data removed]"
     },
     "metadata": {
      "image/png": {
       "width": 489,
       "height": 512
      }
     },
     "output_type": "display_data"
    },
    {
     "data": {
      "text/plain": "<Figure size 640x480 with 0 Axes>"
     },
     "metadata": {},
     "output_type": "display_data"
    },
    {
     "data": {
      "text/plain": "<Figure size 500x500 with 1 Axes>",
      "image/png": "[encoded data removed]"
     },
     "metadata": {
      "image/png": {
       "width": 490,
       "height": 512
      }
     },
     "output_type": "display_data"
    },
    {
     "data": {
      "text/plain": "<Figure size 640x480 with 0 Axes>"
     },
     "metadata": {},
     "output_type": "display_data"
    },
    {
     "data": {
      "text/plain": "<Figure size 500x500 with 1 Axes>",
      "image/png": "[encoded data removed]"
     },
     "metadata": {
      "image/png": {
       "width": 490,
       "height": 512
      }
     },
     "output_type": "display_data"
    },
    {
     "data": {
      "text/plain": "<Figure size 640x480 with 0 Axes>"
     },
     "metadata": {},
     "output_type": "display_data"
    }
   ],
   "outputs_reference": "s3:deepnote-cell-outputs-production/fb928995-70b4-4f63-bc84-d5d75dfa81f0"
  },
  {
   "cell_type": "code",
   "metadata": {
    "source_hash": "15c5198",
    "execution_start": 1710149834849,
    "execution_millis": 3139,
    "deepnote_to_be_reexecuted": false,
    "deepnote_app_block_visible": true,
    "cell_id": "410a549d92de4bfaaddf80fc0347db17",
    "deepnote_cell_type": "code"
   },
   "source": [
    "df['Item_Outlet_Sales_Log'] = np.log(1 + df['Item_Outlet_Sales'])\n",
    "df['Item_Outlet_Sales_BoxCox'], _ = boxcox(df['Item_Outlet_Sales'])\n",
    "\n",
    "\n",
    "displot(df['Item_Outlet_Sales'], 'Item_Outlet_Sales')\n",
    "displot(df['Item_Outlet_Sales_Log'], 'Item_Outlet_Sales_Log')\n",
    "displot(df['Item_Outlet_Sales_BoxCox'], 'Item_Outlet_Sales_BoxCox')"
   ],
   "block_group": "577302e6ea9a447b945c046a9199e58a",
   "execution_count": 21,
   "outputs": [
    {
     "data": {
      "text/plain": "<Figure size 500x500 with 1 Axes>",
      "image/png": "[encoded data removed]"
     },
     "metadata": {
      "image/png": {
       "width": 490,
       "height": 512
      }
     },
     "output_type": "display_data"
    },
    {
     "data": {
      "text/plain": "<Figure size 640x480 with 0 Axes>"
     },
     "metadata": {},
     "output_type": "display_data"
    },
    {
     "data": {
      "text/plain": "<Figure size 500x500 with 1 Axes>",
      "image/png": "[encoded data removed]"
     },
     "metadata": {
      "image/png": {
       "width": 489,
       "height": 512
      }
     },
     "output_type": "display_data"
    },
    {
     "data": {
      "text/plain": "<Figure size 640x480 with 0 Axes>"
     },
     "metadata": {},
     "output_type": "display_data"
    },
    {
     "data": {
      "text/plain": "<Figure size 500x500 with 1 Axes>",
      "image/png": "[encoded data removed]"
     },
     "metadata": {
      "image/png": {
       "width": 490,
       "height": 512
      }
     },
     "output_type": "display_data"
    },
    {
     "data": {
      "text/plain": "<Figure size 640x480 with 0 Axes>"
     },
     "metadata": {},
     "output_type": "display_data"
    }
   ],
   "outputs_reference": "s3:deepnote-cell-outputs-production/274891e3-80b7-4963-a598-521fe905962c"
  },
  {
   "cell_type": "code",
   "metadata": {
    "source_hash": "a1ecbf6c",
    "execution_start": 1710149838037,
    "execution_millis": 528,
    "deepnote_to_be_reexecuted": false,
    "deepnote_app_block_visible": true,
    "cell_id": "cbf1a6f0b7a24b09bf61ccb878e59af4",
    "deepnote_cell_type": "code"
   },
   "source": [
    "df = df.drop(columns = ['Item_Outlet_Sales_Log', 'Item_Outlet_Sales'])"
   ],
   "block_group": "d870798cc0314b73a8c63ace47db236b",
   "execution_count": 22,
   "outputs": [],
   "outputs_reference": null
  },
  {
   "cell_type": "code",
   "metadata": {
    "source_hash": "b2efcb15",
    "execution_start": 1710149838038,
    "execution_millis": 4164,
    "deepnote_to_be_reexecuted": false,
    "deepnote_app_block_visible": true,
    "cell_id": "4431bb34ee9248e187c66ca1724c6152",
    "deepnote_cell_type": "code"
   },
   "source": [
    "categorical_columns = ['Item_Fat_Content', 'Outlet_Establishment_Year', 'Outlet_Size',\n",
    "                       'Outlet_Location_Type', 'Outlet_Type']\n",
    "\n",
    "for column in categorical_columns:\n",
    "    countplot(df[column], column)"
   ],
   "block_group": "be2576013b694b1fa377761c4ea80fe4",
   "execution_count": 23,
   "outputs": [
    {
     "data": {
      "text/plain": "<Figure size 640x480 with 1 Axes>",
      "image/png": "[encoded data removed]"
     },
     "metadata": {
      "image/png": {
       "width": 560,
       "height": 454
      }
     },
     "output_type": "display_data"
    },
    {
     "data": {
      "text/plain": "<Figure size 640x480 with 1 Axes>",
      "image/png": "[encoded data removed]"
     },
     "metadata": {
      "image/png": {
       "width": 560,
       "height": 455
      }
     },
     "output_type": "display_data"
    },
    {
     "data": {
      "text/plain": "<Figure size 640x480 with 1 Axes>",
      "image/png": "[encoded data removed]"
     },
     "metadata": {
      "image/png": {
       "width": 560,
       "height": 455
      }
     },
     "output_type": "display_data"
    },
    {
     "data": {
      "text/plain": "<Figure size 640x480 with 1 Axes>",
      "image/png": "[encoded data removed]"
     },
     "metadata": {
      "image/png": {
       "width": 560,
       "height": 455
      }
     },
     "output_type": "display_data"
    },
    {
     "data": {
      "text/plain": "<Figure size 640x480 with 1 Axes>",
      "image/png": "[encoded data removed]"
     },
     "metadata": {
      "image/png": {
       "width": 566,
       "height": 455
      }
     },
     "output_type": "display_data"
    }
   ],
   "outputs_reference": "s3:deepnote-cell-outputs-production/cd78623e-2cac-4b6b-b9cc-ca5c8b11fbe3"
  },
  {
   "cell_type": "code",
   "metadata": {
    "source_hash": "d137dcdf",
    "execution_start": 1710149842210,
    "execution_millis": 1069,
    "deepnote_to_be_reexecuted": false,
    "deepnote_app_block_visible": true,
    "cell_id": "028cd7a85fbd4bc3a95dea53157ddac5",
    "deepnote_cell_type": "code"
   },
   "source": [
    "unique_item_types = sorted(df['Item_Type'].unique())\n",
    "value_count = df['Item_Type'].value_counts()\n",
    "\n",
    "# Plotting\n",
    "c = sns.countplot(x=df['Item_Type'], order=value_count.index)\n",
    "c.set_xticklabels(labels=unique_item_types, rotation=90)\n",
    "\n",
    "# Save the plot\n",
    "plt.savefig('plots/Item_Type.png')\n",
    "\n",
    "# Display the plot\n",
    "plt.show()"
   ],
   "block_group": "f502d9dc22cf41ec920c693f431f9e71",
   "execution_count": 24,
   "outputs": [
    {
     "data": {
      "text/plain": "<Figure size 640x480 with 1 Axes>",
      "image/png": "[encoded data removed]"
     },
     "metadata": {
      "image/png": {
       "width": 580,
       "height": 568
      }
     },
     "output_type": "display_data"
    }
   ],
   "outputs_reference": "s3:deepnote-cell-outputs-production/95d58ca2-3a42-4245-83c3-f2aa722a04e9"
  },
  {
   "cell_type": "markdown",
   "metadata": {
    "formattedRanges": [],
    "deepnote_app_block_visible": true,
    "cell_id": "196905db9f5747858a8fc80fcb4e9106",
    "deepnote_cell_type": "text-cell-h1"
   },
   "source": [
    "# Training Models"
   ],
   "block_group": "a56d61dd7bd94f11be73146237516c13"
  },
  {
   "cell_type": "markdown",
   "metadata": {
    "formattedRanges": [],
    "deepnote_app_block_visible": true,
    "cell_id": "b2448437629343b1be2074b2ce3dbe95",
    "deepnote_cell_type": "text-cell-p"
   },
   "source": [],
   "block_group": "fbd4f11d83a940038ea0d65a6ec54baa"
  },
  {
   "cell_type": "code",
   "metadata": {
    "source_hash": "bf446a95",
    "execution_start": 1710149843845,
    "execution_millis": 103,
    "deepnote_to_be_reexecuted": false,
    "deepnote_app_block_visible": true,
    "cell_id": "ff26c316c1844207be43f94d5eb88299",
    "deepnote_cell_type": "code"
   },
   "source": [
    "def train(model, train_x, train_y, test_x, test_y, ):\n",
    "    model.fit(train_x, train_y)\n",
    "    pred = model.predict(test_x)\n",
    "    r2 = r2_score(test_y, pred)\n",
    "    cv_score = cross_val_score(model, train_x, train_y,\n",
    "                               scoring='neg_mean_squared_error', cv=5)\n",
    "    cv_score = np.abs(np.mean(cv_score))\n",
    "    print(f\"{model.__str__()} Model Report\")\n",
    "    print(\"CV Score:\", cv_score)\n",
    "    print(\"The R2 Score:\", r2)\n",
    "    print(\"\")\n"
   ],
   "block_group": "268cd16338124c58830c0cf36284381a",
   "execution_count": 25,
   "outputs": [],
   "outputs_reference": null
  },
  {
   "cell_type": "code",
   "metadata": {
    "source_hash": "cbd9ee2",
    "execution_start": 1710149845544,
    "execution_millis": 67,
    "deepnote_to_be_reexecuted": false,
    "deepnote_app_block_visible": true,
    "cell_id": "3ec31a7a271e44a2a4c5e86e76a0567f",
    "deepnote_cell_type": "code"
   },
   "source": [
    "def coef_plot(model_coef, X, model_name):\n",
    "    features = X.columns\n",
    "    coef = pd.Series(model_coef, features).sort_values(ascending=False)\n",
    "    \n",
    "    plot_title = \"Model Coefficients - \" + model_name\n",
    "    coef.plot(kind='bar', title=plot_title)\n",
    "    \n",
    "    plt.savefig(f'plots/{plot_title}.png')\n",
    "    \n",
    "    plt.show()"
   ],
   "block_group": "b4bbf3a39ea54560be9901d7135aeac4",
   "execution_count": 26,
   "outputs": [],
   "outputs_reference": null
  },
  {
   "cell_type": "code",
   "metadata": {
    "source_hash": "b8568af4",
    "execution_start": 1710149846797,
    "execution_millis": 92,
    "deepnote_to_be_reexecuted": false,
    "deepnote_app_block_visible": true,
    "cell_id": "5e4f292b1b9b4ef6a2c9a42b9c8fefc3",
    "deepnote_cell_type": "code"
   },
   "source": [
    "X = df.drop(columns=['Outlet_Establishment_Year', 'Item_Identifier',\n",
    "                     'Outlet_Identifier','Item_Outlet_Sales_BoxCox'])"
   ],
   "block_group": "8fff65294a3a4bc5a0768aeac9c5588e",
   "execution_count": 27,
   "outputs": [],
   "outputs_reference": null
  },
  {
   "cell_type": "code",
   "metadata": {
    "source_hash": "3cefcef7",
    "execution_start": 1710149848413,
    "execution_millis": 97,
    "deepnote_to_be_reexecuted": false,
    "deepnote_app_block_visible": true,
    "cell_id": "609ce926fb72417b869724aeb1edf1da",
    "deepnote_cell_type": "code"
   },
   "source": [
    "y = df['Item_Outlet_Sales_BoxCox']"
   ],
   "block_group": "56f6d174e695442b8cfd641d28971013",
   "execution_count": 28,
   "outputs": [],
   "outputs_reference": null
  },
  {
   "cell_type": "code",
   "metadata": {
    "source_hash": "efed6376",
    "execution_start": 1710149849448,
    "execution_millis": 64,
    "deepnote_to_be_reexecuted": false,
    "deepnote_app_block_visible": true,
    "cell_id": "52a54f1978e440edaab8e320e24edeab",
    "deepnote_cell_type": "code"
   },
   "source": [
    "X_train, X_test, y_train, y_test = train_test_split(X, y,\n",
    "                                                    test_size=0.5,\n",
    "                                                    random_state=0)"
   ],
   "block_group": "495f643061b14bcea7ba2942893c223d",
   "execution_count": 29,
   "outputs": [],
   "outputs_reference": null
  },
  {
   "cell_type": "code",
   "metadata": {
    "source_hash": "1997af0f",
    "execution_start": 1710149874839,
    "execution_millis": 120,
    "deepnote_to_be_reexecuted": false,
    "deepnote_app_block_visible": true,
    "cell_id": "b7f0247932974009b076779d60a334e1",
    "deepnote_cell_type": "code"
   },
   "source": [
    "le = LabelEncoder()\n",
    "\n",
    "cat_col = ['Item_Fat_Content', 'Item_Type', 'Outlet_Size', 'Outlet_Location_Type', 'Outlet_Type', 'New_Item_Type']\n",
    "for col in cat_col:\n",
    "    X_train[col] = le.fit_transform(X_train[col])\n",
    "    X_test[col] = le.transform(X_test[col])"
   ],
   "block_group": "e18b7f268906432290776ba60bd5710f",
   "execution_count": 31,
   "outputs": [],
   "outputs_reference": null
  },
  {
   "cell_type": "code",
   "metadata": {
    "source_hash": "b4412885",
    "execution_start": 1710149884734,
    "execution_millis": 20,
    "deepnote_to_be_reexecuted": false,
    "deepnote_app_block_visible": true,
    "cell_id": "655c3fa273334e01a2dbb735a58f4fff",
    "deepnote_cell_type": "code"
   },
   "source": [
    "from sklearn.preprocessing import StandardScaler\n",
    "\n",
    "sc = StandardScaler()\n",
    "\n",
    "X_train = sc.fit_transform(X_train)\n",
    "X_test = sc.transform(X_test)"
   ],
   "block_group": "69481ea8ec3e4ef78911339bc36dfd69",
   "execution_count": 34,
   "outputs": [],
   "outputs_reference": null
  },
  {
   "cell_type": "code",
   "metadata": {
    "source_hash": "b62846ed",
    "execution_start": 1710149879748,
    "execution_millis": 123,
    "deepnote_to_be_reexecuted": false,
    "deepnote_app_block_visible": true,
    "cell_id": "60591be3b52c4e82a3b8319bbdf387c0",
    "deepnote_cell_type": "code"
   },
   "source": [
    "lr = LinearRegression()\n",
    "train(lr, X_train, y_train, X_test, y_test)"
   ],
   "block_group": "595154c5b0e044228c8b8ec891ee1abe",
   "execution_count": 33,
   "outputs": [
    {
     "name": "stdout",
     "text": "LinearRegression() Model Report\nCV Score: 57.22553602592264\nThe R2 Score: 0.5642450151422149\n\n",
     "output_type": "stream"
    }
   ],
   "outputs_reference": "dbtable:cell_outputs/2ad672ce-da62-43ca-acec-8d3309b6edff"
  },
  {
   "cell_type": "code",
   "metadata": {
    "source_hash": "1ec2c11a",
    "execution_start": 1710149888698,
    "execution_millis": 186,
    "deepnote_to_be_reexecuted": false,
    "deepnote_app_block_visible": true,
    "cell_id": "009ffda8166f42cdae6a183778178b66",
    "deepnote_cell_type": "code"
   },
   "source": [
    "ridge = Ridge()\n",
    "train(ridge, X_train, y_train, X_test, y_test)"
   ],
   "block_group": "20a136f983b4427dbb22994dbb40cafd",
   "execution_count": 35,
   "outputs": [
    {
     "name": "stdout",
     "text": "Ridge() Model Report\nCV Score: 57.22526876107994\nThe R2 Score: 0.5642536169530052\n\n",
     "output_type": "stream"
    }
   ],
   "outputs_reference": "dbtable:cell_outputs/144ff07f-1c59-4e30-80ac-9ae6c8de0dd2"
  },
  {
   "cell_type": "code",
   "metadata": {
    "source_hash": "c9295799",
    "execution_start": 1710149895559,
    "execution_millis": 213,
    "deepnote_to_be_reexecuted": false,
    "deepnote_app_block_visible": true,
    "cell_id": "dc4462b26b8844ebae4b40b560764846",
    "deepnote_cell_type": "code"
   },
   "source": [
    "lasso = Lasso()\n",
    "train(lasso, X_train, y_train, X_test, y_test)"
   ],
   "block_group": "6e7becfb94834317bb877100e02a63d5",
   "execution_count": 36,
   "outputs": [
    {
     "name": "stdout",
     "text": "Lasso() Model Report\nCV Score: 66.72083265613124\nThe R2 Score: 0.504111249120663\n\n",
     "output_type": "stream"
    }
   ],
   "outputs_reference": "dbtable:cell_outputs/5862585f-0296-436e-901e-31a54d73f720"
  },
  {
   "cell_type": "code",
   "metadata": {
    "source_hash": "7e19ac3f",
    "execution_start": 1710149898067,
    "execution_millis": 312,
    "deepnote_to_be_reexecuted": false,
    "deepnote_app_block_visible": true,
    "cell_id": "c0033af3bef54c0b93fed486cf33b7ff",
    "deepnote_cell_type": "code"
   },
   "source": [
    "dtree = DecisionTreeRegressor()\n",
    "train(dtree, X_train, y_train, X_test, y_test)"
   ],
   "block_group": "dd9c031b7e374cbc8023b29ee1ea8776",
   "execution_count": 37,
   "outputs": [
    {
     "name": "stdout",
     "text": "DecisionTreeRegressor() Model Report\nCV Score: 85.26813273656236\nThe R2 Score: 0.35024273411603146\n\n",
     "output_type": "stream"
    }
   ],
   "outputs_reference": "dbtable:cell_outputs/63433ac6-5722-4dc3-871f-8187cb9fc49f"
  },
  {
   "cell_type": "code",
   "metadata": {
    "source_hash": "d4a5f48c",
    "execution_start": 1710149900404,
    "execution_millis": 19065,
    "deepnote_to_be_reexecuted": false,
    "deepnote_app_block_visible": true,
    "cell_id": "ec76713ce0a84c44847ca272c9c802f6",
    "deepnote_cell_type": "code"
   },
   "source": [
    "rand_forest = RandomForestRegressor()\n",
    "train(rand_forest, X_train, y_train, X_test, y_test)"
   ],
   "block_group": "30c5bc76f7c943519a6db13066b8e788",
   "execution_count": 38,
   "outputs": [
    {
     "name": "stdout",
     "text": "RandomForestRegressor() Model Report\nCV Score: 46.09182480808984\nThe R2 Score: 0.6480233423764037\n\n",
     "output_type": "stream"
    }
   ],
   "outputs_reference": "dbtable:cell_outputs/f27519e4-284c-4c0c-bfe3-1357de7b8cb7"
  },
  {
   "cell_type": "code",
   "metadata": {
    "source_hash": "85d5d3e",
    "execution_start": 1710149976480,
    "execution_millis": 11829,
    "deepnote_to_be_reexecuted": false,
    "deepnote_app_block_visible": true,
    "cell_id": "de8d68dd04024753959d68daab68696e",
    "deepnote_cell_type": "code"
   },
   "source": [
    "extree = ExtraTreesRegressor()\n",
    "train(extree, X_train, y_train, X_test, y_test)"
   ],
   "block_group": "7bec300cb98e4e6eb150434e35f48dc9",
   "execution_count": 39,
   "outputs": [
    {
     "name": "stdout",
     "text": "ExtraTreesRegressor() Model Report\nCV Score: 48.509282326642364\nThe R2 Score: 0.6320203010506719\n\n",
     "output_type": "stream"
    }
   ],
   "outputs_reference": "dbtable:cell_outputs/82997746-d1e8-4c6e-88ff-8921fcd1cc24"
  },
  {
   "cell_type": "code",
   "metadata": {
    "source_hash": null,
    "execution_start": 1710087458275,
    "execution_millis": 488,
    "deepnote_to_be_reexecuted": false,
    "deepnote_app_block_visible": true,
    "cell_id": "edc23d0e56594ebebbcc16b627df1d52",
    "deepnote_cell_type": "code"
   },
   "source": [
    "xg = XGBRegressor()\n",
    "train(xg, X_train, y_train, X_test, y_test)"
   ],
   "block_group": "3f0f91a9bff749d2bc17750fcfa22dfc",
   "execution_count": null,
   "outputs": [
    {
     "name": "stdout",
     "text": "XGBRegressor(base_score=None, booster=None, callbacks=None,\n             colsample_bylevel=None, colsample_bynode=None,\n             colsample_bytree=None, device=None, early_stopping_rounds=None,\n             enable_categorical=False, eval_metric=None, feature_types=None,\n             gamma=None, grow_policy=None, importance_type=None,\n             interaction_constraints=None, learning_rate=None, max_bin=None,\n             max_cat_threshold=None, max_cat_to_onehot=None,\n             max_delta_step=None, max_depth=None, max_leaves=None,\n             min_child_weight=None, missing=nan, monotone_constraints=None,\n             multi_strategy=None, n_estimators=None, n_jobs=None,\n             num_parallel_tree=None, random_state=None, ...) Model Report\nCV Score: 51.86306416701967\nThe R2 Score: 0.6072105538996837\n\n",
     "output_type": "stream"
    }
   ],
   "outputs_reference": "dbtable:cell_outputs/28a4b60d-6d37-4c1e-a4a5-9f6c8163545f"
  },
  {
   "cell_type": "code",
   "metadata": {
    "source_hash": null,
    "execution_start": 1710087475403,
    "execution_millis": 22030,
    "deepnote_to_be_reexecuted": false,
    "deepnote_app_block_visible": true,
    "cell_id": "1a31b9e66c7d451396e66371317b7bda",
    "deepnote_cell_type": "code"
   },
   "source": [
    "max_features = ['auto', 'sqrt']\n",
    "max_depth = [int(x) for x in np.linspace(5, 30, num=6)]\n",
    "min_samples_split = [2, 5, 10, 15, 100]\n",
    "min_samples_leaf = [1, 2, 5, 10]\n",
    "random_grid = {\n",
    "    'max_features': max_features,\n",
    "    'max_depth': max_depth,\n",
    "    'min_samples_split': min_samples_split,\n",
    "    'min_samples_leaf': min_samples_leaf}\n",
    "\n",
    "rf = RandomForestRegressor()\n",
    "rf = RandomizedSearchCV(estimator=rf,\n",
    "                        param_distributions=random_grid,\n",
    "                        scoring='neg_mean_squared_error',\n",
    "                        n_iter=10, cv=5, verbose=2,\n",
    "                        random_state=42, n_jobs=1)\n",
    "rf.fit(X_train, y_train)\n",
    "\n",
    "print(rf.best_params_)"
   ],
   "block_group": "730e54ceb60a4ba1ab5e95faf8e70e1d",
   "execution_count": null,
   "outputs": [
    {
     "name": "stdout",
     "text": "Fitting 5 folds for each of 10 candidates, totalling 50 fits\n[CV] END max_depth=5, max_features=sqrt, min_samples_leaf=1, min_samples_split=100; total time=   0.2s\n[CV] END max_depth=5, max_features=sqrt, min_samples_leaf=1, min_samples_split=100; total time=   0.2s\n[CV] END max_depth=5, max_features=sqrt, min_samples_leaf=1, min_samples_split=100; total time=   0.2s\n[CV] END max_depth=5, max_features=sqrt, min_samples_leaf=1, min_samples_split=100; total time=   0.2s\n[CV] END max_depth=5, max_features=sqrt, min_samples_leaf=1, min_samples_split=100; total time=   0.2s\n[CV] END max_depth=5, max_features=auto, min_samples_leaf=2, min_samples_split=5; total time=   0.4s\n[CV] END max_depth=5, max_features=auto, min_samples_leaf=2, min_samples_split=5; total time=   0.4s\n[CV] END max_depth=5, max_features=auto, min_samples_leaf=2, min_samples_split=5; total time=   0.4s\n[CV] END max_depth=5, max_features=auto, min_samples_leaf=2, min_samples_split=5; total time=   0.4s\n[CV] END max_depth=5, max_features=auto, min_samples_leaf=2, min_samples_split=5; total time=   0.4s\n[CV] END max_depth=15, max_features=auto, min_samples_leaf=5, min_samples_split=15; total time=   0.7s\n[CV] END max_depth=15, max_features=auto, min_samples_leaf=5, min_samples_split=15; total time=   0.7s\n[CV] END max_depth=15, max_features=auto, min_samples_leaf=5, min_samples_split=15; total time=   0.7s\n[CV] END max_depth=15, max_features=auto, min_samples_leaf=5, min_samples_split=15; total time=   0.7s\n[CV] END max_depth=15, max_features=auto, min_samples_leaf=5, min_samples_split=15; total time=   0.7s\n[CV] END max_depth=15, max_features=sqrt, min_samples_leaf=2, min_samples_split=100; total time=   0.3s\n[CV] END max_depth=15, max_features=sqrt, min_samples_leaf=2, min_samples_split=100; total time=   0.2s\n[CV] END max_depth=15, max_features=sqrt, min_samples_leaf=2, min_samples_split=100; total time=   0.2s\n[CV] END max_depth=15, max_features=sqrt, min_samples_leaf=2, min_samples_split=100; total time=   0.2s\n[CV] END max_depth=15, max_features=sqrt, min_samples_leaf=2, min_samples_split=100; total time=   0.2s\n[CV] END max_depth=15, max_features=sqrt, min_samples_leaf=1, min_samples_split=100; total time=   0.2s\n[CV] END max_depth=15, max_features=sqrt, min_samples_leaf=1, min_samples_split=100; total time=   0.2s\n[CV] END max_depth=15, max_features=sqrt, min_samples_leaf=1, min_samples_split=100; total time=   0.2s\n[CV] END max_depth=15, max_features=sqrt, min_samples_leaf=1, min_samples_split=100; total time=   0.3s\n[CV] END max_depth=15, max_features=sqrt, min_samples_leaf=1, min_samples_split=100; total time=   0.2s\n[CV] END max_depth=25, max_features=auto, min_samples_leaf=5, min_samples_split=10; total time=   0.7s\n[CV] END max_depth=25, max_features=auto, min_samples_leaf=5, min_samples_split=10; total time=   0.7s\n[CV] END max_depth=25, max_features=auto, min_samples_leaf=5, min_samples_split=10; total time=   0.7s\n[CV] END max_depth=25, max_features=auto, min_samples_leaf=5, min_samples_split=10; total time=   0.7s\n[CV] END max_depth=25, max_features=auto, min_samples_leaf=5, min_samples_split=10; total time=   0.7s\n[CV] END max_depth=30, max_features=sqrt, min_samples_leaf=5, min_samples_split=15; total time=   0.3s\n[CV] END max_depth=30, max_features=sqrt, min_samples_leaf=5, min_samples_split=15; total time=   0.3s\n[CV] END max_depth=30, max_features=sqrt, min_samples_leaf=5, min_samples_split=15; total time=   0.3s\n[CV] END max_depth=30, max_features=sqrt, min_samples_leaf=5, min_samples_split=15; total time=   0.4s\n[CV] END max_depth=30, max_features=sqrt, min_samples_leaf=5, min_samples_split=15; total time=   0.4s\n[CV] END max_depth=15, max_features=auto, min_samples_leaf=2, min_samples_split=5; total time=   0.9s\n[CV] END max_depth=15, max_features=auto, min_samples_leaf=2, min_samples_split=5; total time=   0.8s\n[CV] END max_depth=15, max_features=auto, min_samples_leaf=2, min_samples_split=5; total time=   0.8s\n[CV] END max_depth=15, max_features=auto, min_samples_leaf=2, min_samples_split=5; total time=   0.8s\n[CV] END max_depth=15, max_features=auto, min_samples_leaf=2, min_samples_split=5; total time=   0.8s\n[CV] END max_depth=5, max_features=auto, min_samples_leaf=2, min_samples_split=100; total time=   0.4s\n[CV] END max_depth=5, max_features=auto, min_samples_leaf=2, min_samples_split=100; total time=   0.4s\n[CV] END max_depth=5, max_features=auto, min_samples_leaf=2, min_samples_split=100; total time=   0.4s\n[CV] END max_depth=5, max_features=auto, min_samples_leaf=2, min_samples_split=100; total time=   0.4s\n[CV] END max_depth=5, max_features=auto, min_samples_leaf=2, min_samples_split=100; total time=   0.4s\n[CV] END max_depth=20, max_features=sqrt, min_samples_leaf=1, min_samples_split=15; total time=   0.3s\n[CV] END max_depth=20, max_features=sqrt, min_samples_leaf=1, min_samples_split=15; total time=   0.3s\n[CV] END max_depth=20, max_features=sqrt, min_samples_leaf=1, min_samples_split=15; total time=   0.3s\n[CV] END max_depth=20, max_features=sqrt, min_samples_leaf=1, min_samples_split=15; total time=   0.3s\n[CV] END max_depth=20, max_features=sqrt, min_samples_leaf=1, min_samples_split=15; total time=   0.3s\n{'min_samples_split': 5, 'min_samples_leaf': 2, 'max_features': 'auto', 'max_depth': 5}\n",
     "output_type": "stream"
    }
   ],
   "outputs_reference": "s3:deepnote-cell-outputs-production/9bc84dcb-3c43-4da4-8758-886ec57bf1bb"
  },
  {
   "cell_type": "markdown",
   "source": [
    "<a style='text-decoration:none;line-height:16px;display:flex;color:#5B5B62;padding:10px;justify-content:end;' href='https://deepnote.com?utm_source=created-in-deepnote-cell&projectId=d2fb35ab-bb88-4f2f-a948-c563569cbb7d' target=\"_blank\">\n",
    "<img alt='Created in deepnote.com' style='display:inline;max-height:16px;margin:0px;margin-right:7.5px;' src='data:image/svg+xml;base64,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' > </img>\n",
    "Created in <span style='font-weight:600;margin-left:4px;'>Deepnote</span></a>"
   ],
   "metadata": {
    "created_in_deepnote_cell": true,
    "deepnote_cell_type": "markdown"
   }
  }
 ],
 "nbformat": 4,
 "nbformat_minor": 0,
 "metadata": {
  "deepnote_app_layout": "powerful-article",
  "deepnote_app_reactivity_enabled": true,
  "deepnote_notebook_id": "75b6953093d24300851aceb5f893b0cb",
  "deepnote_execution_queue": []
 }
}
